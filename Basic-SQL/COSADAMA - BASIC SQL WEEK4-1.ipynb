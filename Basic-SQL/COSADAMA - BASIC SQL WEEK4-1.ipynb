{
 "cells": [
  {
   "cell_type": "markdown",
   "metadata": {},
   "source": [
    "# COSADAMA - BASIC SQL WEEK4-1\n",
    " \n",
    "작성자: 정찬, 이정윤   \n",
    "참고자료: SQL/SB(MySQL)기본부터 파이썬/데이터분석 활용까지! (잔재미코딩), PyMySQL 모듈 이해 및 실습 (잔재미 코딩 블로그)    \n",
    "추가 참고 블로그 출처: [림코딩 블로그 (PyMySQL로 db만들기)](https://devpouch.tistory.com/96) | [try except 설명](https://devpouch.tistory.com/85) |[Sorcket Port 설명부분](https://blog.naver.com/PostView.nhn?blogId=myca11&logNo=221389847130&categoryNo=24&parentCategoryNo=0&viewDate=&currentPage=1&postListTopCurrentPage=1&from=postView)"
   ]
  },
  {
   "cell_type": "markdown",
   "metadata": {},
   "source": [
    "# 목차\n",
    "\n",
    "1. PymySQL이란?    \n",
    "    1.1 PyMySQL 소개   \n",
    "    1.2 PyMySQL 기본 개념 \n",
    "    \n",
    "    \n",
    "2. PyMySQL 기본 사용법    \n",
    "    2.1 설치 및 기본 연결 (pattern익히기)\n",
    "       2.1.1 'crawling' db 미리 만들기   \n",
    "       2.1.2 MySQL DB 접속   \n",
    "       2.1.3 cursor 사용하기    \n",
    "       2.1.4 commit 및 close    \n",
    "       2.1.5 DB 한번에 연결하기(예시) \n",
    "  \n",
    "    \n",
    "3. PyMySQL 문법 익히기     \n",
    "    3.1 INSERT     \n",
    "       3.1.1 기본 INSERT\n",
    "       3.1.2 INSERT + for문\n",
    "    3.2 SELECT \n",
    "       3.2.1 기본 SELECT \n",
    "       3.2.2 SELECT + for문\n",
    "       3.2.3 SELECT + where문\n",
    "\n",
    "  "
   ]
  },
  {
   "cell_type": "markdown",
   "metadata": {
    "heading_collapsed": true
   },
   "source": [
    "# 1. PyMySQL 이란?"
   ]
  },
  {
   "cell_type": "markdown",
   "metadata": {
    "heading_collapsed": true,
    "hidden": true
   },
   "source": [
    "## 1.1 PyMySQL 소개\n",
    "PyMySQL은 MySQL을 Python에서 사용할 수 있도록 하는 라이브러리입니다. PyMySQL외에 다른 라이브러리도 존재하지만, 이번 스터디에서는 설치가 쉬워 가장 대중적으로 많이 사용하는 PyMySQL을 배워보겠습니다.   \n",
    "\n",
    "그렇다면, PyMySQL을 사용하는 이유는 무엇일까요? 바로 하나의 프로그램에서 데이터 분석과 저장, 수정을 모두 진행할 수 있다는 '편리성' 때문입니다. \n",
    "기존에 우리가 사용하는 방식을 생각해봅시다. xlsx 혹은 csv 등의 형태의 데이터를 Python의 pandas를 활용해서 전처리 및 분석을 진행하고, 수정한 데이터는 다시 새로운 xlsx, csv 파일로 저장 합니다. 그러나 xlsx 혹은 csv에 담기지 않는 대용량의 데이터, 즉 DB의 데이터를 사용할 땐 이 방법을 사용할 수 없습니다. 따라서 PyMySQL을 통해 데이터 분석과정과 데이터 저장 및 수정을 한번에, 즉 DB와 바로 연결하여 보다 편리하게 작업을 진행하는 것입니다. 또한 Python을 공부하면서 익힌 함수, 코드, 라이브러리 등을 그대로 적용할 수 있다는 것도 PyMySQL을 사용하면 얻을 수 있는 장점 중 하나입니다. "
   ]
  },
  {
   "cell_type": "markdown",
   "metadata": {
    "hidden": true
   },
   "source": [
    "## 1.2기본 개념"
   ]
  },
  {
   "cell_type": "markdown",
   "metadata": {
    "hidden": true
   },
   "source": [
    "![pymysql_기본개념](./contents/pymysql_기본개념.png)"
   ]
  },
  {
   "cell_type": "markdown",
   "metadata": {
    "hidden": true
   },
   "source": [
    "* host, port, user에 대한 설명\n",
    "DB를 연결해줄 때 대부분의 경우 host='localhost', port='3306', user='root'일 가능성이 높습니다. 바꿔줘야할 부분은 password=''와 db=''이죠. 또한 charset=''은 character set을 설정하는 것으로  한글 데이터 처리를 위한 코드를 의미합니다. \n",
    "host와 port에 대해서 조금 더 자세히 알아보기 위해 관련 용어 및 설정해줄 파라미터들에 대한 개념을 하나씩 살펴보겠습니다.    \n",
    "\n",
    "\n",
    ">    - network: 우리는 인터넷, 인트라넷 등 네트워크 상에서 정보를 주고 받게 됩니다. 이때 네트워크에 연결된 모든 장치를 노드(node)라고 부릅니다.\n",
    "\n",
    ">    - process: 프로그램, 어플리케이션, 소프트웨어 등 기기 동작의 총칭.\n",
    "\n",
    ">    - host: 노드 중에서 네트워크 주소(IP)가 할당된 즉, 인터넷에 연결된 컴퓨터, 노트북, 핸드폰 등등 모두 host이고, 이 host끼리 서로 데이터를 주고 받습니다.\n",
    "    \n",
    ">    - port: 네트워크를 통해 데이터를 주고 받는 프로세스를 **식별**하기 위해 호스트 내부적으로 프로세스가 할당 받는 고유한 값. 데이터가 누구한테 가야할지, 데이터를 누가 보냈는지 알려주는 주소 같은 개념입니다. 한 호스트 내에서 네트워크 통신을 하는 프로세스를 식별하기 위해 사용되는 값이므로 (기본적으로) 같은 호스트 내에서 다른 프로세스가 같은 포트 넘버를 가질 수 없습니다.\n",
    "    \n",
    ">    - socket: '프로세스가 네트워크를 통해 데이터를 주고 받으려면 반드시 열어야 하는 창구' 프로세스가 데이터를 보내고 받기 위해서는 socket을 열어야 합니다. 비유하자면 편지를 보내려면 우체국이 열려 있어야 하는 상황이죠. 이때 socket을 열기 위해서는 host에 할당된 ip주소, 포트 넘버, 프로토콜(통신 규약) 세 가지가 필요하고, 이 세 가지가 소켓을 정의합니다.\n",
    "\n",
    "\n",
    "즉, 네트워크 상에서 데이터를 주고 받는다는 것은 '한 호스트의 프로세스 된 데이터가 다른 호스트의 프로세스까지 오고 갔다!'는 것을 의미합니다. 예를 들어 SLACK에서 DM을 보냈다면 상대방의 SLACK에 DM이 도착해야 합니다.\n",
    "\n",
    "\n",
    "\n",
    "+) pymysql 왜 colab으로는 안될까??    \n",
    "`(2003, \"Can't connect to MySQL server on 'localhost' ([Errno 99] Cannot assign requested address)\")` 에러 발생   \n",
    "즉, 로컬에서 MySQL을 연결할 수 없다는 것을 의미하는데, 정확한 원인은 구글링을 해도 잘 나오지 않지만,, 경로 설정 등 추가로 진행해줘야 할 직업이 생길 가능성이 높으니, 가능한 Jypyter notebook을 사용하길 권장합니다. "
   ]
  },
  {
   "cell_type": "markdown",
   "metadata": {
    "heading_collapsed": true
   },
   "source": [
    "# 2. PyMySQL 기본 사용법\n",
    "\n",
    "PyMySQL은 아래의 6가지 패턴 순서대로 진행됩니다. 하나씩 실행해보면서 그 역할을 확인해봅시다. \n",
    "\n",
    "1. import PyMySQL\n",
    "2. connect (MySQL 연결하기)\n",
    "3. cursor 사용하기 (객체 가져오기)\n",
    "4. SQL구문 만들기\n",
    "5. cursor 실행하기 (execute: DB 서버에 SQL 구문 전송) \n",
    "6. commit (DB 최종 변경)\n",
    "7. DB 닫아주기"
   ]
  },
  {
   "cell_type": "markdown",
   "metadata": {
    "hidden": true
   },
   "source": [
    "## 2.1 설치 및 기본 연결"
   ]
  },
  {
   "cell_type": "markdown",
   "metadata": {
    "hidden": true
   },
   "source": [
    "먼저 anaconda prompt에서 `pip install PyMySQL`을 통해 PyMySQL을 설치합니다.    \n",
    "이후 Python notebook에서 `import pymysql`을 실행해주세요. "
   ]
  },
  {
   "cell_type": "code",
   "execution_count": 1,
   "metadata": {
    "hidden": true
   },
   "outputs": [],
   "source": [
    "import pymysql"
   ]
  },
  {
   "cell_type": "markdown",
   "metadata": {
    "hidden": true
   },
   "source": [
    "### 2.1.1 'crawling' db 미리 만들기\n",
    "\n",
    "db와 connect를 해주기 이전에 미리 DB가 존재해야 합니다. workbench에서 이미 DB를 생성했거나, 이전에 만든 DB를 사용한다면 해당 과정은 넘어가도 됩니다!\n",
    "\n",
    "아래 코드는 앞서 언급한 7가지 스텝을 한꺼번에 사용한 것입니다. 각 스텝에 대한 세부적인 설명은 아래에서 차근차근 알아봅시다. "
   ]
  },
  {
   "cell_type": "code",
   "execution_count": null,
   "metadata": {
    "hidden": true
   },
   "outputs": [],
   "source": [
    "#1\n",
    "import pymysql\n",
    "\n",
    "#2. connect\n",
    "conn = pymysql.connect(host='localhost', port=3306,  user='root', password='password', charset='utf8') \n",
    "\n",
    "#3. curosr 사용하기\n",
    "cursor = conn.cursor() \n",
    "\n",
    "#4. sql 구문 (DB만들어주기) 만들기\n",
    "sql = \"CREATE DATABASE crawling\" \n",
    "\n",
    "#5 cursor execute\n",
    "cursor.execute(sql) \n",
    "\n",
    "#6. commit (최종 변경)\n",
    "conn.commit() \n",
    "\n",
    "#7. DB 닫아주기 \n",
    "conn.close() "
   ]
  },
  {
   "cell_type": "markdown",
   "metadata": {
    "hidden": true
   },
   "source": [
    "### 2.1.2 MySQL DB 접속"
   ]
  },
  {
   "cell_type": "markdown",
   "metadata": {
    "hidden": true
   },
   "source": [
    "pymysql.connect()를 통해 MySQL, MySQL의 DB에 접속합니다."
   ]
  },
  {
   "cell_type": "code",
   "execution_count": null,
   "metadata": {
    "hidden": true
   },
   "outputs": [],
   "source": [
    "# 2. pymysql.connect() 메서드를 사용해 MySQL에 연결\n",
    "db = pymysql.connect(host = '접속할 mysql server 주소', port = 3306, user='mysql ID',passwd = 'mysql passwd', db='접속할 DB', charset='utf8')"
   ]
  },
  {
   "cell_type": "markdown",
   "metadata": {
    "hidden": true
   },
   "source": [
    "위와 같은 방법 외에도 아래와 같이 각 요소들을 미리 정의한 뒤 DB를 연결하는 방법도 있습니다. 여러가지 다양한 방법을 활용할 수 있으니 한 예시로 참고하면 됩니다. "
   ]
  },
  {
   "cell_type": "code",
   "execution_count": null,
   "metadata": {
    "hidden": true
   },
   "outputs": [],
   "source": [
    "import pymysql\n",
    "\n",
    "host_name = 'host_name'\n",
    "host_port = 3306\n",
    "username = 'user_name'\n",
    "password = 'your_password'\n",
    "database_name = 'student_mgmt'\n",
    "\n",
    "db = pymysql.connect(\n",
    "     host=host_name,     # MySQL Server Address\n",
    "     port=host_port,     # MySQL Server Port\n",
    "     user=username,      # MySQL username\n",
    "     passwd=password,    # password for MySQL username\n",
    "     db=database_name,   # Database name\n",
    "     charset='utf8'\n",
    " )"
   ]
  },
  {
   "cell_type": "markdown",
   "metadata": {
    "hidden": true
   },
   "source": [
    "DataBase에 대한 연결을 'db'로 정의해 주었기 때문에 그냥 db만 입력하면 접속됩니다."
   ]
  },
  {
   "cell_type": "code",
   "execution_count": null,
   "metadata": {
    "hidden": true
   },
   "outputs": [],
   "source": [
    "db"
   ]
  },
  {
   "cell_type": "markdown",
   "metadata": {
    "hidden": true
   },
   "source": [
    "### 2.1.3. cursor 사용하기\n",
    "cursor을 사용하는 것은 connection 객체로부터 cursor 메서드를 호출하여 cursor 객체를 가져오는 것을 의미합니다. 즉, 마우스를 움직여 화면에 보이는 cursor로 클릭하는 동작과 동일한 역할을 수행합니다. 구체적으로 어떤 동작을 하는지는 cursor.execute(), cursor.commit(), cursor.close() 등 여러 명령어와 괄호 안에 들어갈 SQL 쿼리문에 달려 있습니다."
   ]
  },
  {
   "cell_type": "code",
   "execution_count": null,
   "metadata": {
    "hidden": true
   },
   "outputs": [],
   "source": [
    "#3. cursor 객체(object) 가져오기\n",
    "cursor = db.cursor\n",
    "\n",
    "#4. sql 문법 문자열로 작성하기\n",
    "sql = \"\"\"\n",
    "CREATE TABLE COSADAMA (\n",
    "    ID INT NOT NULL AUTO_INCREMENT,\n",
    "    NAME VARCHAR(20) NOT NULL,\n",
    "    INTEREST VARCHAR(20),\n",
    "    PRIMARY KEY(ID)\n",
    "        );\n",
    "\"\"\"\n",
    "\n",
    "#5. sql에 저장된 쿼리 최종 실행\n",
    "cursor.execute(sql)\n",
    "\n",
    "#5. 위의 3번 과정을 건너뛰고 간단하게 문자열을 직접 삽입하는 것도 가능함!\n",
    "cursor.execute(\"SHOW TABLES\")"
   ]
  },
  {
   "cell_type": "markdown",
   "metadata": {
    "hidden": true
   },
   "source": [
    "### 2.1.4. commit 및 close\n",
    "- commit: 변경한 내용을 확정해 MySQL DB에 반영하기\n",
    "- close: DB 연결 닫기"
   ]
  },
  {
   "cell_type": "code",
   "execution_count": null,
   "metadata": {
    "hidden": true
   },
   "outputs": [],
   "source": [
    "#6. commit하기(확정 반영) \n",
    "db.commit()\n",
    "\n",
    "#7. db연결 닫기\n",
    "db.close()"
   ]
  },
  {
   "cell_type": "markdown",
   "metadata": {
    "hidden": true
   },
   "source": [
    "### 2.1.5 DB 한번에 연결하기(예시)\n",
    "\n",
    "스텝별로 하나씩 역할을 살펴보았습니다. 일반적으로 PyMySQL을 사용할 때는 아래와 같이 모든 스텝을 한번에 작성하여 사용하곤 합니다. 익숙하게 사용하기 위해서는 '7단계'꼭 기억해야겠죠??!!"
   ]
  },
  {
   "cell_type": "code",
   "execution_count": null,
   "metadata": {
    "hidden": true,
    "run_control": {
     "marked": false
    }
   },
   "outputs": [],
   "source": [
    "## 1. \n",
    "import pymysql\n",
    "\n",
    "## 2. connect\n",
    "db = pymysql.connect(host = 'localhost', port = 3306, user='root',passwd = 'mysql passwd', db='접속할 DB', charset='utf8')\n",
    "\n",
    "## 3. cursor 사용하기\n",
    "cursor = db.cursor\n",
    "\n",
    "## 4. sql구문 만들기\n",
    "sql = \"\"\"\n",
    "CREATE TABLE COSADAMA (\n",
    "    ID INT NOT NULL AUTO_INCREMENT,\n",
    "    NAME VARCHAR(20) NOT NULL,\n",
    "    INTEREST VARCHAR(20),\n",
    "    PRIMARY KEY(ID)\n",
    "        );\n",
    "\"\"\"\n",
    "\n",
    "## 5. cursor 실행하기\n",
    "cursor.execute(sql)\n",
    "\n",
    "## 6.commit (DB 최종 변경)\n",
    "db.commit()\n",
    "\n",
    "## 7. DB 닫아주기\n",
    "db.close()"
   ]
  },
  {
   "cell_type": "markdown",
   "metadata": {},
   "source": [
    "# 3. PyMySQL  문법 익히기"
   ]
  },
  {
   "cell_type": "markdown",
   "metadata": {},
   "source": [
    "본격적으로 python을 결합한 쿼리를 만들어 봅시다! 이번 주차에서는 몇 가지 예시만 제공하고 나머지 활용은 여러분의 몫으로 남겨 두려고 합니다."
   ]
  },
  {
   "cell_type": "markdown",
   "metadata": {
    "heading_collapsed": true
   },
   "source": [
    "## 3.1 INSERT문\n",
    "\n",
    "### 3.1.1 기본 INSERT\n",
    "PyMySQL에서 데이터를 삽입하는 가장 기본적인 작업은 worknech에서 했듯 하나씩 INSERT 해주는 방법입니다. "
   ]
  },
  {
   "cell_type": "code",
   "execution_count": null,
   "metadata": {
    "hidden": true
   },
   "outputs": [],
   "source": [
    "import pymysql\n",
    "\n",
    "host_name = 'localhost'\n",
    "host_port = 3306 \n",
    "username = 'root'\n",
    "password = ''\n",
    "database_name = 'test'\n",
    "\n",
    "db = pymysql.connect(\n",
    "     host=host_name,     # MySQL Server Address\n",
    "     port=host_port,     # MySQL Server Port\n",
    "     user=username,      # MySQL username\n",
    "     passwd=password,    # password for MySQL username\n",
    "     db=database_name,   # Database name\n",
    "     charset='utf8'\n",
    " )\n",
    "\n",
    "sql=\"\"\"\n",
    "INSERT INTO COSADAMA (ID, NAME, INTEREST) VALUES(\"1234\", '고다람', '러닝');\n",
    "INSERT INTO COSADAMA (ID, NAME, INTEREST) VALUES(\"5678\", '사마요', '독서');\n",
    "\"\"\"\n",
    "\n",
    "cursor.execute(sql)\n",
    "    \n",
    "db.commit()\n",
    "db.close() "
   ]
  },
  {
   "cell_type": "markdown",
   "metadata": {
    "hidden": true
   },
   "source": [
    "### 3.1.2 Insert + for\n",
    "\n",
    "그러나 삽입하고 싶은 내용이 많다면 위에처럼 하나씩 INSERT해주기 어렵겠죠! 이때 Python의 **try\\~except**문을 활용해 오류 값을 제외하고 DB에 값을 추가할 수 있습니다.(10~19번까지 id를 부여하고 이름과 취미는 모르는 상태라고 가정) 또한 마지막에 몇번째 row인지 cursor.lastrowid를 통해 알아볼 수도 있습니다."
   ]
  },
  {
   "cell_type": "code",
   "execution_count": 3,
   "metadata": {
    "hidden": true,
    "run_control": {
     "marked": false
    }
   },
   "outputs": [
    {
     "name": "stdout",
     "output_type": "stream",
     "text": [
      "INSERT INTO COSADAMA (ID, NAME, INTEREST) VALUES(10, 'Unknown', 'Unknown')\n",
      "INSERT INTO COSADAMA (ID, NAME, INTEREST) VALUES(11, 'Unknown', 'Unknown')\n",
      "INSERT INTO COSADAMA (ID, NAME, INTEREST) VALUES(12, 'Unknown', 'Unknown')\n",
      "INSERT INTO COSADAMA (ID, NAME, INTEREST) VALUES(13, 'Unknown', 'Unknown')\n",
      "INSERT INTO COSADAMA (ID, NAME, INTEREST) VALUES(14, 'Unknown', 'Unknown')\n",
      "INSERT INTO COSADAMA (ID, NAME, INTEREST) VALUES(15, 'Unknown', 'Unknown')\n",
      "INSERT INTO COSADAMA (ID, NAME, INTEREST) VALUES(16, 'Unknown', 'Unknown')\n",
      "INSERT INTO COSADAMA (ID, NAME, INTEREST) VALUES(17, 'Unknown', 'Unknown')\n",
      "INSERT INTO COSADAMA (ID, NAME, INTEREST) VALUES(18, 'Unknown', 'Unknown')\n",
      "INSERT INTO COSADAMA (ID, NAME, INTEREST) VALUES(19, 'Unknown', 'Unknown')\n",
      "19\n"
     ]
    }
   ],
   "source": [
    "import pymysql\n",
    "import pandas as pd\n",
    "\n",
    "host_name = 'localhost'\n",
    "host_port = 3306 \n",
    "username = 'root'\n",
    "password = ''\n",
    "database_name = 'test'\n",
    "\n",
    "db = pymysql.connect(\n",
    "     host=host_name,     # MySQL Server Address\n",
    "     port=host_port,     # MySQL Server Port\n",
    "     user=username,      # MySQL username\n",
    "     passwd=password,    # password for MySQL username\n",
    "     db=database_name,   # Database name\n",
    "     charset='utf8'\n",
    " )\n",
    "\n",
    "try:\n",
    "    cursor = db.cursor()\n",
    "    for num in range(10,20):\n",
    "        sql = \"INSERT INTO COSADAMA (ID, NAME, INTEREST) VALUES(\"+ str(num) +\", 'Unknown', 'Unknown')\"\n",
    "        print(sql)\n",
    "        cursor.execute(sql)\n",
    "    \n",
    "    db.commit()\n",
    "    print(cursor.lastrowid)\n",
    "\n",
    "finally:\n",
    "    db.close()"
   ]
  },
  {
   "cell_type": "markdown",
   "metadata": {
    "heading_collapsed": true
   },
   "source": [
    "## 3.2 SELECT문\n",
    "\n",
    "### 3.2.1 기본 SELECT\n",
    "\n",
    "기본 SELECT역시 INSERT와 마찬가지로 workbench에서 진행해준 방법과 크게 다르지 않습니다. \n",
    "연습했던 쿼리들을 PyMySQL에서도 적용해보세요. "
   ]
  },
  {
   "cell_type": "code",
   "execution_count": null,
   "metadata": {
    "hidden": true
   },
   "outputs": [],
   "source": [
    "import pymysql\n",
    "\n",
    "host_name = 'localhost'\n",
    "host_port = 3306 \n",
    "username = 'root'\n",
    "password = ''\n",
    "database_name = 'test'\n",
    "\n",
    "db = pymysql.connect(\n",
    "     host=host_name,     # MySQL Server Address\n",
    "     port=host_port,     # MySQL Server Port\n",
    "     user=username,      # MySQL username\n",
    "     passwd=password,    # password for MySQL username\n",
    "     db=database_name,   # Database name\n",
    "     charset='utf8'\n",
    " )\n",
    "\n",
    "sql=\"\"\"\n",
    "SELECT * FROM COSADAMA;\n",
    "\"\"\"\n",
    "\n",
    "cursor.execute(sql)\n",
    "    \n",
    "db.commit()\n",
    "db.close() "
   ]
  },
  {
   "cell_type": "markdown",
   "metadata": {
    "hidden": true
   },
   "source": [
    "### 3.2.2 Select + for문\n",
    "\n",
    "이번에는 **fetch**를 통해 db에서 가져온 데이터를 배열(array) 형식으로 저장(fetch)하여 사용해봅시다. database에 저장된 데이터의 경우 그 크기가 엄청날 수 있습니다. 이런 빅데이터를 빠르게 연산하기 위해서 배열array 형식으로 바꾸어 처리하곤 합니다.\n",
    "\n",
    "- fetch: 나열, 정렬하다. \n",
    "- fetchall(): row 전체 fetch\n",
    "- fetchmany(size=None): 지정한 여러 row fetch\n",
    "- fetchone(): 다음 row fetch"
   ]
  },
  {
   "cell_type": "code",
   "execution_count": null,
   "metadata": {
    "hidden": true
   },
   "outputs": [],
   "source": [
    "try:\n",
    "\t\tcursor = db.cursor()\n",
    "\t\tsql = \"SELECT * FROM COSADAMA\"\n",
    "\n",
    "\t\tcursor.execute(sql)\n",
    "\t\tresult = cursor.fetchall()\n",
    "\n",
    "        for i in range(4):\n",
    "            for row_data in result:\n",
    "                    print(row_data[i])\n",
    "        \n",
    "        print(result.info())\n",
    "\n",
    "fianlly:\n",
    "\tdb.close() "
   ]
  },
  {
   "cell_type": "code",
   "execution_count": 5,
   "metadata": {
    "code_folding": [],
    "hidden": true
   },
   "outputs": [
    {
     "name": "stdout",
     "output_type": "stream",
     "text": [
      "10\n",
      "Unknown\n",
      "Unknown\n",
      "11\n",
      "Unknown\n",
      "Unknown\n",
      "12\n",
      "Unknown\n",
      "Unknown\n",
      "13\n",
      "Unknown\n",
      "Unknown\n",
      "14\n",
      "Unknown\n",
      "Unknown\n",
      "15\n",
      "Unknown\n",
      "Unknown\n",
      "16\n",
      "Unknown\n",
      "Unknown\n",
      "17\n",
      "Unknown\n",
      "Unknown\n",
      "18\n",
      "Unknown\n",
      "Unknown\n",
      "19\n",
      "Unknown\n",
      "Unknown\n"
     ]
    }
   ],
   "source": [
    "# fetch = 나열, 정렬하다. \n",
    "# 서버에서 가져온 데이터를 배열 형식으로 저장(fetch)하여 사용\n",
    "# 쉽게 말해서 서버 데이터를 파이썬에서 이용할 때 array로 저장할 때 사용\n",
    "# row 기준\n",
    "\n",
    "import pymysql\n",
    "\n",
    "host_name = 'localhost'\n",
    "host_port = 3306\n",
    "username = 'root'\n",
    "password = ''\n",
    "database_name = 'test'\n",
    "\n",
    "db = pymysql.connect(\n",
    "     host=host_name,     # MySQL Server Address\n",
    "     port=host_port,     # MySQL Server Port\n",
    "     user=username,      # MySQL username\n",
    "     passwd=password,    # password for MySQL username\n",
    "     db=database_name,   # Database name\n",
    "     charset='utf8'\n",
    " )\n",
    "\n",
    "\n",
    "try:\n",
    "    cursor = db.cursor()\n",
    "    sql = \"SELECT * FROM COSADAMA\"\n",
    "    \n",
    "    cursor.execute(sql)\n",
    "    result = cursor.fetchall()\n",
    "    \n",
    "    for row_data in result:\n",
    "        print(row_data[0])\n",
    "        print(row_data[1])\n",
    "        print(row_data[2])\n",
    "        #print(row_data[3])\n",
    "\n",
    "finally:\n",
    "    db.close()"
   ]
  },
  {
   "cell_type": "markdown",
   "metadata": {
    "hidden": true
   },
   "source": [
    "### 3.2.3 Select + Where문"
   ]
  },
  {
   "cell_type": "code",
   "execution_count": null,
   "metadata": {
    "hidden": true,
    "run_control": {
     "marked": false
    }
   },
   "outputs": [],
   "source": [
    "host_name = 'localhost'\n",
    "host_port = 3306\n",
    "username = 'root'\n",
    "password = ''\n",
    "database_name = 'test'\n",
    "\n",
    "db = pymysql.connect(\n",
    "     host=host_name,     # MySQL Server Address\n",
    "     port=host_port,     # MySQL Server Port\n",
    "     user=username,      # MySQL username\n",
    "     passwd=password,    # password for MySQL username\n",
    "     db=database_name,   # Database name\n",
    "     charset='utf8'\n",
    " )\n",
    "\n",
    "try:\n",
    "    with db.cursor as cursor:\n",
    "        sql = \"SELECT * FROM COSADAMA WHERE name ='고다람'\"\n",
    "\n",
    "        cursor.execute(sql)\n",
    "\n",
    "        while result:\n",
    "            result = cursor.fetchone()\n",
    "            print(result)\n",
    "\n",
    "finally:\n",
    "    db.close()"
   ]
  },
  {
   "cell_type": "markdown",
   "metadata": {},
   "source": [
    "# 마무리\n",
    "\n",
    "이렇게 4주차의 PyMySQL 기초 편이 끝났습니다! **4주차 심화** 편에서는 xlsx, csv 파일을 DB에 넣는 방법을 배운 뒤, 크롤링을 활용하여 수집한 데이터를 DB에 저장하는 방법에 대해 배워보도록 하겠습니다. "
   ]
  }
 ],
 "metadata": {
  "kernelspec": {
   "display_name": "Python 3",
   "language": "python",
   "name": "python3"
  },
  "language_info": {
   "codemirror_mode": {
    "name": "ipython",
    "version": 3
   },
   "file_extension": ".py",
   "mimetype": "text/x-python",
   "name": "python",
   "nbconvert_exporter": "python",
   "pygments_lexer": "ipython3",
   "version": "3.7.6"
  },
  "toc": {
   "base_numbering": 1,
   "nav_menu": {},
   "number_sections": true,
   "sideBar": true,
   "skip_h1_title": false,
   "title_cell": "Table of Contents",
   "title_sidebar": "Contents",
   "toc_cell": false,
   "toc_position": {},
   "toc_section_display": true,
   "toc_window_display": false
  },
  "varInspector": {
   "cols": {
    "lenName": 16,
    "lenType": 16,
    "lenVar": 40
   },
   "kernels_config": {
    "python": {
     "delete_cmd_postfix": "",
     "delete_cmd_prefix": "del ",
     "library": "var_list.py",
     "varRefreshCmd": "print(var_dic_list())"
    },
    "r": {
     "delete_cmd_postfix": ") ",
     "delete_cmd_prefix": "rm(",
     "library": "var_list.r",
     "varRefreshCmd": "cat(var_dic_list()) "
    }
   },
   "types_to_exclude": [
    "module",
    "function",
    "builtin_function_or_method",
    "instance",
    "_Feature"
   ],
   "window_display": false
  }
 },
 "nbformat": 4,
 "nbformat_minor": 4
}

{
 "cells": [
  {
   "cell_type": "markdown",
   "metadata": {},
   "source": [
    "# COSADAMA - BASIC SQL WEEK4-2\n",
    " \n",
    "작성자: 정찬, 이정윤   \n",
    "참고자료: SQL/SB(MySQL)기본부터 파이썬/데이터분석 활용까지! (잔재미코딩), PyMySQL 모듈 이해 및 실습 (잔재미 코딩 블로그)"
   ]
  },
  {
   "cell_type": "markdown",
   "metadata": {},
   "source": [
    "# 목차\n",
    "\n",
    "1. PyMySQL로 xlsx(csv)파일 db에 넣기 - 파일의 크기가 작을 때\n",
    "    \n",
    "    \n",
    "2. cmd로 txt파일 db에 넣기 - 파일의 크기가 클 때   \n",
    "      2.1 mysql 환경변수 설정   \n",
    "      2.2 cmd 환경에서 데이터를 db에 적재하기   \n",
    "       \n",
    "       \n",
    "3. Pandas library와 PyMySQL \n",
    "\n"
   ]
  },
  {
   "cell_type": "markdown",
   "metadata": {},
   "source": [
    "# 1. PyMySQL로 xlsx(csv)파일 db에 넣기\n",
    "앞서 2주차 과제를 하면서 workbench에서 xlsx(csv) 파일을 db에 넣는 방법을 배웠습니다. \n",
    "그렇다면, 이번엔 PyMySQL을 사용해서 xlsx(csv) 파일을 바로 db에 넣는 방법을 알아보겠습니다. csv나 xlsx 형식으로 raw data를 제공하는 경우가 많으니, 이 방법도 알면 보다 수월한 작업을 진행할 수 있을테죠!\n",
    "\n",
    "방법은 여러가지가 있는데, 본 교안에서는 csv와 xlsx 모두 사용할 수 있는 방법 한가지를 소개하겠습니다. \n",
    "\n",
    "> 다른 방법이 궁금하다면 아래 블로그를 참고해보세요!  \n",
    "1. [csv to mysql, mysql to csv (동영상 강의 있음)](https://m.blog.naver.com/PostView.naver?isHttpsRedirect=true&blogId=oralol&logNo=221994582251)\n",
    "2. [`mysql for excel` 다운받아서 하는 방법](https://zionh.tistory.com/44)\n",
    "\n",
    "* 교안 참고 블로그: https://juun42.tistory.com/23"
   ]
  },
  {
   "cell_type": "markdown",
   "metadata": {},
   "source": [
    "## 1.1 pandas 활용해서 xlsx(csv) 가져오기\n",
    "\n",
    "기존에 Python에서 xlsx(csv)파일을 사용하듯 pandas를 활용해서 데이터를 가져옵니다. "
   ]
  },
  {
   "cell_type": "code",
   "execution_count": null,
   "metadata": {},
   "outputs": [],
   "source": [
    "import pandas as pd\n",
    "\n",
    "data = pd.read_excel(\"data.xlsx\")\n",
    "data"
   ]
  },
  {
   "cell_type": "code",
   "execution_count": 26,
   "metadata": {},
   "outputs": [
    {
     "data": {
      "text/html": [
       "<div>\n",
       "<style scoped>\n",
       "    .dataframe tbody tr th:only-of-type {\n",
       "        vertical-align: middle;\n",
       "    }\n",
       "\n",
       "    .dataframe tbody tr th {\n",
       "        vertical-align: top;\n",
       "    }\n",
       "\n",
       "    .dataframe thead th {\n",
       "        text-align: right;\n",
       "    }\n",
       "</style>\n",
       "<table border=\"1\" class=\"dataframe\">\n",
       "  <thead>\n",
       "    <tr style=\"text-align: right;\">\n",
       "      <th></th>\n",
       "      <th>Kelly</th>\n",
       "      <th>Female</th>\n",
       "      <th>First</th>\n",
       "    </tr>\n",
       "  </thead>\n",
       "  <tbody>\n",
       "    <tr>\n",
       "      <th>0</th>\n",
       "      <td>Tim</td>\n",
       "      <td>Male</td>\n",
       "      <td>Second</td>\n",
       "    </tr>\n",
       "    <tr>\n",
       "      <th>1</th>\n",
       "      <td>Yun</td>\n",
       "      <td>Female</td>\n",
       "      <td>Third</td>\n",
       "    </tr>\n",
       "  </tbody>\n",
       "</table>\n",
       "</div>"
      ],
      "text/plain": [
       "  Kelly  Female   First\n",
       "0   Tim    Male  Second\n",
       "1   Yun  Female   Third"
      ]
     },
     "execution_count": 26,
     "metadata": {},
     "output_type": "execute_result"
    }
   ],
   "source": [
    "'''csv 코드 (이외는 xlsx과 똑같음!)\n",
    "import pandas as pd\n",
    "\n",
    "data = pd.read_csv(\"data.csv\", encoding='utf-8')\n",
    "data\n",
    "'''"
   ]
  },
  {
   "cell_type": "markdown",
   "metadata": {},
   "source": [
    "## 1.2 DB 만들어주기\n",
    "\n",
    "기존에 있던 DB를 사용한다면 해당 부분은 진행하지 않아도 됩니다. "
   ]
  },
  {
   "cell_type": "code",
   "execution_count": 8,
   "metadata": {},
   "outputs": [],
   "source": [
    "### DB만들기\n",
    "\n",
    "#1\n",
    "import pymysql\n",
    "\n",
    "#2. connect\n",
    "db = pymysql.connect(host = 'localhost', port = 3306, user='root', passwd = '********', charset='utf8')\n",
    "\n",
    "#3. curosr 사용하기\n",
    "cursor = db.cursor() \n",
    "\n",
    "#4. sql 구문 (DB만들어주기) 만들기\n",
    "sql = \"CREATE DATABASE new_database\" \n",
    "\n",
    "#5 cursor execute\n",
    "cursor.execute(sql) \n",
    "\n",
    "#6. commit (최종 변경)\n",
    "db.commit() \n",
    "\n",
    "#7. DB 닫아주기 \n",
    "db.close() "
   ]
  },
  {
   "cell_type": "markdown",
   "metadata": {},
   "source": [
    "## 1.3 Table 만들기\n",
    "\n",
    "DB와 같이 기존에 있는 DB의 Table을 사용한다면 해당 부분은 진행하지 않아도 됩니다.   \n",
    "테이블을 새로 만든다면 넣어줄 데이터와 똑같은 형식 (컬럼, 데이터 타입)으로 지정하여 만들어주어야 합니다. "
   ]
  },
  {
   "cell_type": "code",
   "execution_count": 29,
   "metadata": {},
   "outputs": [],
   "source": [
    "#1\n",
    "import pymysql\n",
    "\n",
    "#2. connect\n",
    "db = pymysql.connect(host='localhost',  port = 3306, user='root', password='********', db='new_database',charset='utf8') \n",
    "\n",
    "#3. curosr 사용하기\n",
    "cursor = db.cursor() \n",
    "\n",
    "#4. sql 구문 (DB만들어주기) 만들기\n",
    "my_table= \"CREATE TABLE IF NOT EXISTS new_table(column1 VARCHAR(10) primary key, column2 VARCHAR(10), column3 varchar(10))\" \n",
    "\n",
    "#5 cursor execute\n",
    "cursor.execute(my_table)\n",
    "\n",
    "#6. commit (최종 변경)\n",
    "db.commit() \n",
    "\n",
    "#7. DB 닫아주기 \n",
    "db.close() "
   ]
  },
  {
   "cell_type": "markdown",
   "metadata": {},
   "source": [
    "## 1.4 데이터 가져와서 DB에 넣어주기\n",
    "\n",
    "DB에 데이터를 넣어주는 INSERT를 진행합니다. \n",
    "이때 for문을 사용해서 전체 데이터를 한번에 넣어줄 수 있습니다. (PyMySQL을 쓰는 보람이 느껴지는 부분!) 추가로, INSERT할 때 VALUE의 형식을 잘 지정해주어야 합니다!"
   ]
  },
  {
   "cell_type": "code",
   "execution_count": 30,
   "metadata": {},
   "outputs": [],
   "source": [
    "#1\n",
    "import pymysql\n",
    "\n",
    "#2. connect\n",
    "db = pymysql.connect(host='localhost',  port = 3306, user='root', password='********', db='new_database',charset='utf8') \n",
    "\n",
    "#3. curosr 사용하기\n",
    "cursor = db.cursor() \n",
    "\n",
    "#4. sql 구문 (DB만들어주기) 만들기 + cursor execute\n",
    "sql='INSERT INTO new_table(column1, column2, column3) VALUES(%s, %s, %s)'\n",
    "for idx in range(len(data)):\n",
    "    cursor.execute(sql, tuple(data.values[idx]))\n",
    "\n",
    "#6. commit (최종 변경)\n",
    "db.commit() \n",
    "\n",
    "#7. DB 닫아주기 \n",
    "db.close() "
   ]
  },
  {
   "cell_type": "markdown",
   "metadata": {},
   "source": [
    "# 2. cmd로 txt파일 db에 넣기"
   ]
  },
  {
   "cell_type": "markdown",
   "metadata": {},
   "source": [
    "여러분의 데이터베이스에 정말 엄청 큰 용량의 데이터가 계속해서 저장되고 있고, 이를 실시간으로 분석해야하는 상황을 가정해 봅시다. 컬럼의 개수는 100개가 넘어가고, row 수는 백만, 천만 단위입니다. 엑셀로는 100만건부터 표현이 불가능합니다. Pandas로 컬럼부터 삭제하고, 조건을 걸어서 선택하고, 혹시 모르니 따로 저장해두면서 변수마다 메모리를 엄청 잡아먹을 겁니다. 읽어오는 속도도 느리고, 무얼 어떻게 해야할지도 모르는 답답한 상황이죠. 그럴때! 우리는 cmd를 통해 database에 올려 두고 sql로 쉽게 원하는 데이터를 가져올 수 있습니다.\n",
    "\n",
    "앞서 소개시켜드린 for문을 이용한 작업은 row가 1000건이 넘어가는 순간 급격히 느려지기 시작합니다. 이것이 for문의 한계입니다. numpy나 scrapy를 통해 느끼셨겠지만 for문을 통한 작업은 각각을 메모리에 올리고, 처리해야 하므로 느립니다. 한번에 하나씩 문자는 문자대로, 숫자는 숫자대로 따로따로 인식해 처리하죠. 몇만, 몇백만건을 처리해야하는 작업에는 너무 느려서 어울리지 않습니다. scrapy처럼 일단 필요한 부분을 다 가져와버리는 편이 효과적이죠. numpy처럼 자료를 array(쉽게 말해 행렬이나 텐서)로 처리하는 방법도 있습니다.\n",
    "\n",
    "그래서 우리는 \n",
    "- 엄청 큰 csv나 txt파일을 바로 db에 올리고, \n",
    "- PyMySQL로 원하는 조건을 쿼리로 선택해\n",
    "- pandas로 바로 dataframe을 만들어 작업하는 환경을 만들어 볼겁니다.\n",
    "\n",
    "나중에는 csv나 txt가 아니라 자동으로 실시간 데이터를 db에 적재하고, 이를 바로 PyMySQL로 가져와서 작업하실 수 있을겁니다.\n",
    "\n",
    "단계는 크게 3개로 나뉩니다.\n",
    "1. mysql 환경변수 설정\n",
    "2. cmd 환경에서 데이터를 db에 적재\n",
    "3. pymysql과 pandas 통해 원하는 데이터를 dataframe으로 가져오기\n",
    "    - fetchone()\n",
    "    - fetchmany()\n",
    "    - fetchall()"
   ]
  },
  {
   "cell_type": "markdown",
   "metadata": {},
   "source": [
    "## 2.1 mysql 환경변수 설정"
   ]
  },
  {
   "cell_type": "markdown",
   "metadata": {},
   "source": [
    "[mysql 환경설정 방법](https://hoho325.tistory.com/163)으로 설명은 대체합니다. (Window10기준) "
   ]
  },
  {
   "cell_type": "markdown",
   "metadata": {},
   "source": [
    "## 2.2 cmd 환경에서 데이터를 db에 적재   \n",
    "\n",
    "**0. [여기](http://data.seoul.go.kr/dataList/OA-12912/S/1/datasetView.do)에서 실습 데이터를 다운 받습니다.**\n",
    "\n",
    "자세한 내용은 [이곳](https://github.com/Team-COSADAMA/Blog/blob/main/content/blog/MySQL-csv-import.md)을 참고해 주세요. 아직 블로그가 업로드 되지 않았는데, 이후 링크를 수정하겠습니다.\n",
    "\n",
    "**1.  cmd 창을 엽니다.**\n",
    "\n",
    "\n",
    "**2.  cmd에서 mysql 접속**     \n",
    "`mysql -u root -p --local-infile` 이렇게 입력하고 엔터를 누른 후, mysql root 계정의 비밀번호를 입력합니다. 만약 안된다면 뒤의 --local-infile을 제거하고 접속해 줍니다.   \n",
    "\n",
    "\n",
    "**3. local_infile=true**      \n",
    "`> mysql show global variables like 'local_infile';` 앞부분의 > mysql은 이제 기본을 나올겁니다. 박스 안에 local_infile이 off로 처리되어 있다면 `mysql> set global local_infile=true;`를 입력하세요. 그리고 mysql 문법처럼 쿼리가 끝날 때 ; 를 꼭 써주셔야 한답니다! 이후 쿨하게 `exit`을 눌러서 나가줍니다.   \n",
    "\n",
    "\n",
    "**4. db, table 만들기**    \n",
    "cmd창을 다시 키고 `mysql --local_infile -u root -p`으로 접속한 뒤, `> mysql show global variables like 'local_infile';`를 다시 확인해 줍니다. on이 나오면 드디어 csv, txt 등 파일을 db에 넣어줄 거예요. \n",
    "\n",
    "\n",
    "**5. db, table 만들기 (db는 이미 만들었다면 pass!)**    \n",
    "database를 선택하고(`use 원하는database`), table을 만들어 줍니다. 문법은 똑같으니 cmd창에서 진행해도 좋고, pymysql로 진행하셔도 됩니다.  \n",
    "\n",
    "\n",
    "**6. data import**    \n",
    "table에 데이터를 적재할겁니다. \n",
    "\n",
    ">LOAD DATA LOCAL INFILE \"절대경로/BUS_STATION_BOARDING_MONTH_202109.txt\"     \n",
    "INTO TABLE dbName.tableName      \n",
    "FIELDS TERMINATED BY \"|\"    \n",
    "LINES TERMINATED BY \"\\n\"    \n",
    "IGNORE 1 ROWS     \n",
    "-- (`column1`, `column2`, ...)    \n",
    "\n",
    "    \n",
    "이런 식으로 데이터를 넣어 줍니다. 백만건 기준으로 약 5~6초 정도 소요됩니다. 위의 for문으로는 3시간으로도 다 하지 못했습니다.\n",
    "\n",
    "앞으로는 pymysql로 jupyter notebook이든, vscode든, pycharm이든 PyMySQL로 원하는 데이터를 가져올 수 있겠죠!"
   ]
  },
  {
   "cell_type": "markdown",
   "metadata": {},
   "source": [
    "# 3. Pandas library와 PyMySQL \n",
    "\n",
    "PyMySQL을 사용하여 db를 조작할 때, select와 fetch를 사용하면 원하는 데이터를 python notebook에서 확인할 수 있습니다. fetch의 종류는 \n",
    "\n",
    "- fetchone(): 한 행row만 가져옵니다.\n",
    "- fetchmany(size= ): size만큼의 row를 가져옵니다.\n",
    "- fetchall(): 모든 row를 가져옵니다.\n",
    "    \n",
    "등이 있습니다. 아래의 예시를 통해 확인해봅시다!"
   ]
  },
  {
   "cell_type": "code",
   "execution_count": 1,
   "metadata": {},
   "outputs": [],
   "source": [
    "import pymysql\n",
    "\n",
    "host_name = 'localhost'\n",
    "host_port = 3306\n",
    "username = 'root'\n",
    "password = '*********'\n",
    "database_name = 'your_db_name'\n",
    "\n",
    "db = pymysql.connect(\n",
    "     host=host_name,     # MySQL Server Address\n",
    "     port=host_port,     # MySQL Server Port\n",
    "     user=username,      # MySQL username\n",
    "     passwd=password,    # password for MySQL username\n",
    "     db=database_name,   # Database name\n",
    "     charset='utf8'\n",
    " )\n",
    "db\n",
    "cursor = db.cursor()"
   ]
  },
  {
   "cell_type": "code",
   "execution_count": 2,
   "metadata": {},
   "outputs": [],
   "source": [
    "# 전체 데이터를 한 행만 가져와 봅시다.\n",
    "sql = \"SELECT * FROM your_table_name\"\n",
    "cursor.execute(sql)\n",
    "bus1 = cursor.fetchone()"
   ]
  },
  {
   "cell_type": "markdown",
   "metadata": {},
   "source": [
    "꽤 오래 걸리죠? 제 데스크탑으로는 14.6초 정도 걸리네요. 더 걸리더라도 너무 놀라지 마세요:)\n",
    "\n",
    "이렇게 하면 결과값은 list 형식으로 출력됩니다. 그렇다면, 우리가 익숙한 dataframe으로 db의 데이터를 가져오는 방법은 없을까요? 물론 있습니다. 바로 익숙한 pandas를 활용해서 말이죠!\n",
    "\n",
    "사용법은 `변수명 = fetchall()` 와 같은 형식으로 저장한 후, `df명 = pd.dataframe(변수명)`으로 데이터프레임을 만들어 주면 끝! 아직 이해가 되지 않는다면 아래 예시를 활용해보세요.  "
   ]
  },
  {
   "cell_type": "code",
   "execution_count": 3,
   "metadata": {},
   "outputs": [
    {
     "data": {
      "text/html": [
       "<div>\n",
       "<style scoped>\n",
       "    .dataframe tbody tr th:only-of-type {\n",
       "        vertical-align: middle;\n",
       "    }\n",
       "\n",
       "    .dataframe tbody tr th {\n",
       "        vertical-align: top;\n",
       "    }\n",
       "\n",
       "    .dataframe thead th {\n",
       "        text-align: right;\n",
       "    }\n",
       "</style>\n",
       "<table border=\"1\" class=\"dataframe\">\n",
       "  <thead>\n",
       "    <tr style=\"text-align: right;\">\n",
       "      <th></th>\n",
       "      <th>0</th>\n",
       "    </tr>\n",
       "  </thead>\n",
       "  <tbody>\n",
       "    <tr>\n",
       "      <th>0</th>\n",
       "      <td>2021-09-01 00:00:00</td>\n",
       "    </tr>\n",
       "    <tr>\n",
       "      <th>1</th>\n",
       "      <td>100</td>\n",
       "    </tr>\n",
       "    <tr>\n",
       "      <th>2</th>\n",
       "      <td>100번(하계동~용산구청)</td>\n",
       "    </tr>\n",
       "    <tr>\n",
       "      <th>3</th>\n",
       "      <td>11428</td>\n",
       "    </tr>\n",
       "    <tr>\n",
       "      <th>4</th>\n",
       "      <td>한성여객종점</td>\n",
       "    </tr>\n",
       "    <tr>\n",
       "      <th>5</th>\n",
       "      <td>14</td>\n",
       "    </tr>\n",
       "    <tr>\n",
       "      <th>6</th>\n",
       "      <td>1</td>\n",
       "    </tr>\n",
       "    <tr>\n",
       "      <th>7</th>\n",
       "      <td>0000-00-00 00:00:00</td>\n",
       "    </tr>\n",
       "    <tr>\n",
       "      <th>8</th>\n",
       "      <td>1</td>\n",
       "    </tr>\n",
       "  </tbody>\n",
       "</table>\n",
       "</div>"
      ],
      "text/plain": [
       "                     0\n",
       "0  2021-09-01 00:00:00\n",
       "1                  100\n",
       "2       100번(하계동~용산구청)\n",
       "3                11428\n",
       "4               한성여객종점\n",
       "5                   14\n",
       "6                    1\n",
       "7  0000-00-00 00:00:00\n",
       "8                    1"
      ]
     },
     "execution_count": 3,
     "metadata": {},
     "output_type": "execute_result"
    }
   ],
   "source": [
    "import pandas as pd\n",
    "\n",
    "bus1 = pd.DataFrame(bus1)\n",
    "bus1"
   ]
  },
  {
   "cell_type": "code",
   "execution_count": 4,
   "metadata": {},
   "outputs": [
    {
     "data": {
      "text/plain": [
       "pandas.core.indexes.range.RangeIndex"
      ]
     },
     "execution_count": 4,
     "metadata": {},
     "output_type": "execute_result"
    }
   ],
   "source": [
    "type(bus1.columns)"
   ]
  },
  {
   "cell_type": "markdown",
   "metadata": {},
   "source": [
    "컬럼 이름이 rangeindex로 나오는군요 먼저 행열 전환을 해주고, 원래 컬럼명으로 바꿔서 저장해줍시다. pandas 조작법을 그대로 사용하면 됩니다!"
   ]
  },
  {
   "cell_type": "code",
   "execution_count": 11,
   "metadata": {},
   "outputs": [],
   "source": [
    "import numpy as np\n",
    "\n",
    "bus1 = np.transpose(bus1)"
   ]
  },
  {
   "cell_type": "code",
   "execution_count": 12,
   "metadata": {},
   "outputs": [
    {
     "data": {
      "text/html": [
       "<div>\n",
       "<style scoped>\n",
       "    .dataframe tbody tr th:only-of-type {\n",
       "        vertical-align: middle;\n",
       "    }\n",
       "\n",
       "    .dataframe tbody tr th {\n",
       "        vertical-align: top;\n",
       "    }\n",
       "\n",
       "    .dataframe thead th {\n",
       "        text-align: right;\n",
       "    }\n",
       "</style>\n",
       "<table border=\"1\" class=\"dataframe\">\n",
       "  <thead>\n",
       "    <tr style=\"text-align: right;\">\n",
       "      <th></th>\n",
       "      <th>사용일자</th>\n",
       "      <th>노선번호</th>\n",
       "      <th>노선명</th>\n",
       "      <th>버스정류장ARS번호</th>\n",
       "      <th>역명</th>\n",
       "      <th>승차총승객수</th>\n",
       "      <th>하차총승객수</th>\n",
       "      <th>등록일자</th>\n",
       "      <th>id</th>\n",
       "    </tr>\n",
       "  </thead>\n",
       "  <tbody>\n",
       "    <tr>\n",
       "      <th>0</th>\n",
       "      <td>2021-09-01</td>\n",
       "      <td>100</td>\n",
       "      <td>100번(하계동~용산구청)</td>\n",
       "      <td>11428</td>\n",
       "      <td>한성여객종점</td>\n",
       "      <td>14</td>\n",
       "      <td>1</td>\n",
       "      <td>0000-00-00 00:00:00</td>\n",
       "      <td>1</td>\n",
       "    </tr>\n",
       "  </tbody>\n",
       "</table>\n",
       "</div>"
      ],
      "text/plain": [
       "        사용일자 노선번호             노선명 버스정류장ARS번호      역명 승차총승객수 하차총승객수  \\\n",
       "0 2021-09-01  100  100번(하계동~용산구청)      11428  한성여객종점     14      1   \n",
       "\n",
       "                  등록일자 id  \n",
       "0  0000-00-00 00:00:00  1  "
      ]
     },
     "execution_count": 12,
     "metadata": {},
     "output_type": "execute_result"
    }
   ],
   "source": [
    "import pandas as pd\n",
    "\n",
    "bus1 = pd.DataFrame(bus1)\n",
    "bus1.columns = ['사용일자', '노선번호', '노선명', '버스정류장ARS번호', '역명', '승차총승객수', '하차총승객수',\n",
    " '등록일자', 'id']\n",
    "\n",
    "bus1"
   ]
  },
  {
   "cell_type": "markdown",
   "metadata": {},
   "source": [
    "승차총승객수가 1000이 넘는 엄청난 버스 노선이 있는지 해당 데이터만 가져와 봅시다."
   ]
  },
  {
   "cell_type": "code",
   "execution_count": 15,
   "metadata": {},
   "outputs": [],
   "source": [
    "# 승차총승객수가 1000이 넘는 엄청난 버스 노선이 있을까요?\n",
    "sql = \"SELECT * FROM your_table_name where 승차총승객수 >1000\"\n",
    "cursor.execute(sql)\n",
    "bus1000_10 = cursor.fetchmany(size=10)"
   ]
  },
  {
   "cell_type": "code",
   "execution_count": 16,
   "metadata": {},
   "outputs": [
    {
     "data": {
      "text/html": [
       "<div>\n",
       "<style scoped>\n",
       "    .dataframe tbody tr th:only-of-type {\n",
       "        vertical-align: middle;\n",
       "    }\n",
       "\n",
       "    .dataframe tbody tr th {\n",
       "        vertical-align: top;\n",
       "    }\n",
       "\n",
       "    .dataframe thead th {\n",
       "        text-align: right;\n",
       "    }\n",
       "</style>\n",
       "<table border=\"1\" class=\"dataframe\">\n",
       "  <thead>\n",
       "    <tr style=\"text-align: right;\">\n",
       "      <th></th>\n",
       "      <th>사용일자</th>\n",
       "      <th>노선번호</th>\n",
       "      <th>노선명</th>\n",
       "      <th>버스정류장ARS번호</th>\n",
       "      <th>역명</th>\n",
       "      <th>승차총승객수</th>\n",
       "      <th>하차총승객수</th>\n",
       "      <th>등록일자</th>\n",
       "      <th>id</th>\n",
       "    </tr>\n",
       "  </thead>\n",
       "  <tbody>\n",
       "    <tr>\n",
       "      <th>0</th>\n",
       "      <td>2021-09-01</td>\n",
       "      <td>5413</td>\n",
       "      <td>5413번(시흥~고속터미널)</td>\n",
       "      <td>21350</td>\n",
       "      <td>신림사거리.신림역</td>\n",
       "      <td>1028</td>\n",
       "      <td>429</td>\n",
       "      <td>0000-00-00 00:00:00</td>\n",
       "      <td>1028</td>\n",
       "    </tr>\n",
       "    <tr>\n",
       "      <th>1</th>\n",
       "      <td>2021-09-01</td>\n",
       "      <td>5627</td>\n",
       "      <td>5627번(노온사동~구로디지털단지역)</td>\n",
       "      <td>17015</td>\n",
       "      <td>구로디지털단지역환승센터</td>\n",
       "      <td>1050</td>\n",
       "      <td>574</td>\n",
       "      <td>0000-00-00 00:00:00</td>\n",
       "      <td>3073</td>\n",
       "    </tr>\n",
       "    <tr>\n",
       "      <th>2</th>\n",
       "      <td>2021-09-01</td>\n",
       "      <td>7734</td>\n",
       "      <td>7734번(진관공영차고지~홍대입구역)</td>\n",
       "      <td>14015</td>\n",
       "      <td>홍대입구역</td>\n",
       "      <td>1431</td>\n",
       "      <td>28</td>\n",
       "      <td>0000-00-00 00:00:00</td>\n",
       "      <td>3805</td>\n",
       "    </tr>\n",
       "    <tr>\n",
       "      <th>3</th>\n",
       "      <td>2021-09-01</td>\n",
       "      <td>6635</td>\n",
       "      <td>6635번(광명공영차고지~구로디지탈단지역)</td>\n",
       "      <td>17014</td>\n",
       "      <td>구로디지털단지역환승센터</td>\n",
       "      <td>1220</td>\n",
       "      <td>1108</td>\n",
       "      <td>0000-00-00 00:00:00</td>\n",
       "      <td>4010</td>\n",
       "    </tr>\n",
       "    <tr>\n",
       "      <th>4</th>\n",
       "      <td>2021-09-01</td>\n",
       "      <td>3315</td>\n",
       "      <td>3315번(마천동~송파구민회관)</td>\n",
       "      <td>24146</td>\n",
       "      <td>잠실역.롯데월드</td>\n",
       "      <td>1027</td>\n",
       "      <td>835</td>\n",
       "      <td>0000-00-00 00:00:00</td>\n",
       "      <td>4239</td>\n",
       "    </tr>\n",
       "    <tr>\n",
       "      <th>5</th>\n",
       "      <td>2021-09-01</td>\n",
       "      <td>143</td>\n",
       "      <td>143번(정릉~개포동)</td>\n",
       "      <td>22019</td>\n",
       "      <td>고속터미널</td>\n",
       "      <td>1683</td>\n",
       "      <td>707</td>\n",
       "      <td>0000-00-00 00:00:00</td>\n",
       "      <td>4868</td>\n",
       "    </tr>\n",
       "    <tr>\n",
       "      <th>6</th>\n",
       "      <td>2021-09-01</td>\n",
       "      <td>9401</td>\n",
       "      <td>9401번(구미동~서울역)</td>\n",
       "      <td>47638</td>\n",
       "      <td>낙생육교</td>\n",
       "      <td>1021</td>\n",
       "      <td>178</td>\n",
       "      <td>0000-00-00 00:00:00</td>\n",
       "      <td>8142</td>\n",
       "    </tr>\n",
       "    <tr>\n",
       "      <th>7</th>\n",
       "      <td>2021-09-01</td>\n",
       "      <td>9401</td>\n",
       "      <td>9401번(구미동~서울역)</td>\n",
       "      <td>3164</td>\n",
       "      <td>순천향대학병원</td>\n",
       "      <td>1060</td>\n",
       "      <td>34</td>\n",
       "      <td>0000-00-00 00:00:00</td>\n",
       "      <td>8164</td>\n",
       "    </tr>\n",
       "    <tr>\n",
       "      <th>8</th>\n",
       "      <td>2021-09-01</td>\n",
       "      <td>110A</td>\n",
       "      <td>\"110번(A,고려대방향,정릉~정릉)\"</td>\n",
       "      <td>3162</td>\n",
       "      <td>순천향대학병원</td>\n",
       "      <td>1170</td>\n",
       "      <td>336</td>\n",
       "      <td>0000-00-00 00:00:00</td>\n",
       "      <td>8322</td>\n",
       "    </tr>\n",
       "    <tr>\n",
       "      <th>9</th>\n",
       "      <td>2021-09-01</td>\n",
       "      <td>641</td>\n",
       "      <td>641번(문래동~양재동)</td>\n",
       "      <td>19192</td>\n",
       "      <td>문래역</td>\n",
       "      <td>1039</td>\n",
       "      <td>193</td>\n",
       "      <td>0000-00-00 00:00:00</td>\n",
       "      <td>9778</td>\n",
       "    </tr>\n",
       "  </tbody>\n",
       "</table>\n",
       "</div>"
      ],
      "text/plain": [
       "        사용일자  노선번호                      노선명 버스정류장ARS번호            역명  승차총승객수  \\\n",
       "0 2021-09-01  5413          5413번(시흥~고속터미널)      21350     신림사거리.신림역    1028   \n",
       "1 2021-09-01  5627     5627번(노온사동~구로디지털단지역)      17015  구로디지털단지역환승센터    1050   \n",
       "2 2021-09-01  7734     7734번(진관공영차고지~홍대입구역)      14015         홍대입구역    1431   \n",
       "3 2021-09-01  6635  6635번(광명공영차고지~구로디지탈단지역)      17014  구로디지털단지역환승센터    1220   \n",
       "4 2021-09-01  3315        3315번(마천동~송파구민회관)      24146      잠실역.롯데월드    1027   \n",
       "5 2021-09-01   143             143번(정릉~개포동)      22019         고속터미널    1683   \n",
       "6 2021-09-01  9401           9401번(구미동~서울역)      47638          낙생육교    1021   \n",
       "7 2021-09-01  9401           9401번(구미동~서울역)       3164       순천향대학병원    1060   \n",
       "8 2021-09-01  110A    \"110번(A,고려대방향,정릉~정릉)\"       3162       순천향대학병원    1170   \n",
       "9 2021-09-01   641            641번(문래동~양재동)      19192           문래역    1039   \n",
       "\n",
       "   하차총승객수                 등록일자    id  \n",
       "0     429  0000-00-00 00:00:00  1028  \n",
       "1     574  0000-00-00 00:00:00  3073  \n",
       "2      28  0000-00-00 00:00:00  3805  \n",
       "3    1108  0000-00-00 00:00:00  4010  \n",
       "4     835  0000-00-00 00:00:00  4239  \n",
       "5     707  0000-00-00 00:00:00  4868  \n",
       "6     178  0000-00-00 00:00:00  8142  \n",
       "7      34  0000-00-00 00:00:00  8164  \n",
       "8     336  0000-00-00 00:00:00  8322  \n",
       "9     193  0000-00-00 00:00:00  9778  "
      ]
     },
     "execution_count": 16,
     "metadata": {},
     "output_type": "execute_result"
    }
   ],
   "source": [
    "import pandas as pd\n",
    "\n",
    "bus1000_10 = pd.DataFrame(bus1000_10)\n",
    "bus1000_10.columns = ['사용일자', '노선번호', '노선명', '버스정류장ARS번호', '역명', '승차총승객수', '하차총승객수',\n",
    " '등록일자', 'id']\n",
    "\n",
    "bus1000_10"
   ]
  },
  {
   "cell_type": "markdown",
   "metadata": {},
   "source": [
    "승차총승객수가 1000이상인 데이터를 다 가져와 봅시다."
   ]
  },
  {
   "cell_type": "code",
   "execution_count": 19,
   "metadata": {},
   "outputs": [],
   "source": [
    "# 승차총승객수가 1000이 넘는 엄청난 버스 노선이 있을까요?\n",
    "sql = \"SELECT * FROM your_table_name where 승차총승객수 >1000\"\n",
    "cursor.execute(sql)\n",
    "bus1000_all = cursor.fetchall()"
   ]
  },
  {
   "cell_type": "code",
   "execution_count": 20,
   "metadata": {},
   "outputs": [
    {
     "data": {
      "text/html": [
       "<div>\n",
       "<style scoped>\n",
       "    .dataframe tbody tr th:only-of-type {\n",
       "        vertical-align: middle;\n",
       "    }\n",
       "\n",
       "    .dataframe tbody tr th {\n",
       "        vertical-align: top;\n",
       "    }\n",
       "\n",
       "    .dataframe thead th {\n",
       "        text-align: right;\n",
       "    }\n",
       "</style>\n",
       "<table border=\"1\" class=\"dataframe\">\n",
       "  <thead>\n",
       "    <tr style=\"text-align: right;\">\n",
       "      <th></th>\n",
       "      <th>사용일자</th>\n",
       "      <th>노선번호</th>\n",
       "      <th>노선명</th>\n",
       "      <th>버스정류장ARS번호</th>\n",
       "      <th>역명</th>\n",
       "      <th>승차총승객수</th>\n",
       "      <th>하차총승객수</th>\n",
       "      <th>등록일자</th>\n",
       "      <th>id</th>\n",
       "    </tr>\n",
       "  </thead>\n",
       "  <tbody>\n",
       "    <tr>\n",
       "      <th>0</th>\n",
       "      <td>2021-09-01</td>\n",
       "      <td>5413</td>\n",
       "      <td>5413번(시흥~고속터미널)</td>\n",
       "      <td>21350</td>\n",
       "      <td>신림사거리.신림역</td>\n",
       "      <td>1028</td>\n",
       "      <td>429</td>\n",
       "      <td>0000-00-00 00:00:00</td>\n",
       "      <td>1028</td>\n",
       "    </tr>\n",
       "    <tr>\n",
       "      <th>1</th>\n",
       "      <td>2021-09-01</td>\n",
       "      <td>5627</td>\n",
       "      <td>5627번(노온사동~구로디지털단지역)</td>\n",
       "      <td>17015</td>\n",
       "      <td>구로디지털단지역환승센터</td>\n",
       "      <td>1050</td>\n",
       "      <td>574</td>\n",
       "      <td>0000-00-00 00:00:00</td>\n",
       "      <td>3073</td>\n",
       "    </tr>\n",
       "    <tr>\n",
       "      <th>2</th>\n",
       "      <td>2021-09-01</td>\n",
       "      <td>7734</td>\n",
       "      <td>7734번(진관공영차고지~홍대입구역)</td>\n",
       "      <td>14015</td>\n",
       "      <td>홍대입구역</td>\n",
       "      <td>1431</td>\n",
       "      <td>28</td>\n",
       "      <td>0000-00-00 00:00:00</td>\n",
       "      <td>3805</td>\n",
       "    </tr>\n",
       "    <tr>\n",
       "      <th>3</th>\n",
       "      <td>2021-09-01</td>\n",
       "      <td>6635</td>\n",
       "      <td>6635번(광명공영차고지~구로디지탈단지역)</td>\n",
       "      <td>17014</td>\n",
       "      <td>구로디지털단지역환승센터</td>\n",
       "      <td>1220</td>\n",
       "      <td>1108</td>\n",
       "      <td>0000-00-00 00:00:00</td>\n",
       "      <td>4010</td>\n",
       "    </tr>\n",
       "    <tr>\n",
       "      <th>4</th>\n",
       "      <td>2021-09-01</td>\n",
       "      <td>3315</td>\n",
       "      <td>3315번(마천동~송파구민회관)</td>\n",
       "      <td>24146</td>\n",
       "      <td>잠실역.롯데월드</td>\n",
       "      <td>1027</td>\n",
       "      <td>835</td>\n",
       "      <td>0000-00-00 00:00:00</td>\n",
       "      <td>4239</td>\n",
       "    </tr>\n",
       "    <tr>\n",
       "      <th>...</th>\n",
       "      <td>...</td>\n",
       "      <td>...</td>\n",
       "      <td>...</td>\n",
       "      <td>...</td>\n",
       "      <td>...</td>\n",
       "      <td>...</td>\n",
       "      <td>...</td>\n",
       "      <td>...</td>\n",
       "      <td>...</td>\n",
       "    </tr>\n",
       "    <tr>\n",
       "      <th>2981</th>\n",
       "      <td>2021-09-28</td>\n",
       "      <td>강남06</td>\n",
       "      <td>강남06(세곡LH푸르지오아파트~코엑스)</td>\n",
       "      <td>23408</td>\n",
       "      <td>수서역</td>\n",
       "      <td>1167</td>\n",
       "      <td>380</td>\n",
       "      <td>0000-00-00 00:00:00</td>\n",
       "      <td>1048338</td>\n",
       "    </tr>\n",
       "    <tr>\n",
       "      <th>2982</th>\n",
       "      <td>2021-09-28</td>\n",
       "      <td>강남02</td>\n",
       "      <td>강남02(강남구민체육관~양재역)</td>\n",
       "      <td>23920</td>\n",
       "      <td>양재역.종합복지관</td>\n",
       "      <td>1058</td>\n",
       "      <td>153</td>\n",
       "      <td>0000-00-00 00:00:00</td>\n",
       "      <td>1048399</td>\n",
       "    </tr>\n",
       "    <tr>\n",
       "      <th>2983</th>\n",
       "      <td>2021-09-28</td>\n",
       "      <td>강남02</td>\n",
       "      <td>강남02(강남구민체육관~양재역)</td>\n",
       "      <td>23323</td>\n",
       "      <td>매봉역</td>\n",
       "      <td>1486</td>\n",
       "      <td>86</td>\n",
       "      <td>0000-00-00 00:00:00</td>\n",
       "      <td>1048400</td>\n",
       "    </tr>\n",
       "    <tr>\n",
       "      <th>2984</th>\n",
       "      <td>2021-09-28</td>\n",
       "      <td>강동05</td>\n",
       "      <td>강동05(강동공영차고지~천호역)</td>\n",
       "      <td>25162</td>\n",
       "      <td>천호역현대백화점.노동권익센터</td>\n",
       "      <td>1196</td>\n",
       "      <td>46</td>\n",
       "      <td>0000-00-00 00:00:00</td>\n",
       "      <td>1048511</td>\n",
       "    </tr>\n",
       "    <tr>\n",
       "      <th>2985</th>\n",
       "      <td>2021-09-28</td>\n",
       "      <td>강북01</td>\n",
       "      <td>강북01(아카데미하우스.통일교육원~수유역)</td>\n",
       "      <td>9790</td>\n",
       "      <td>수유역</td>\n",
       "      <td>1083</td>\n",
       "      <td>225</td>\n",
       "      <td>0000-00-00 00:00:00</td>\n",
       "      <td>1048569</td>\n",
       "    </tr>\n",
       "  </tbody>\n",
       "</table>\n",
       "<p>2986 rows × 9 columns</p>\n",
       "</div>"
      ],
      "text/plain": [
       "           사용일자  노선번호                      노선명 버스정류장ARS번호               역명  \\\n",
       "0    2021-09-01  5413          5413번(시흥~고속터미널)      21350        신림사거리.신림역   \n",
       "1    2021-09-01  5627     5627번(노온사동~구로디지털단지역)      17015     구로디지털단지역환승센터   \n",
       "2    2021-09-01  7734     7734번(진관공영차고지~홍대입구역)      14015            홍대입구역   \n",
       "3    2021-09-01  6635  6635번(광명공영차고지~구로디지탈단지역)      17014     구로디지털단지역환승센터   \n",
       "4    2021-09-01  3315        3315번(마천동~송파구민회관)      24146         잠실역.롯데월드   \n",
       "...         ...   ...                      ...        ...              ...   \n",
       "2981 2021-09-28  강남06    강남06(세곡LH푸르지오아파트~코엑스)      23408              수서역   \n",
       "2982 2021-09-28  강남02        강남02(강남구민체육관~양재역)      23920        양재역.종합복지관   \n",
       "2983 2021-09-28  강남02        강남02(강남구민체육관~양재역)      23323              매봉역   \n",
       "2984 2021-09-28  강동05        강동05(강동공영차고지~천호역)      25162  천호역현대백화점.노동권익센터   \n",
       "2985 2021-09-28  강북01  강북01(아카데미하우스.통일교육원~수유역)       9790              수유역   \n",
       "\n",
       "      승차총승객수  하차총승객수                 등록일자       id  \n",
       "0       1028     429  0000-00-00 00:00:00     1028  \n",
       "1       1050     574  0000-00-00 00:00:00     3073  \n",
       "2       1431      28  0000-00-00 00:00:00     3805  \n",
       "3       1220    1108  0000-00-00 00:00:00     4010  \n",
       "4       1027     835  0000-00-00 00:00:00     4239  \n",
       "...      ...     ...                  ...      ...  \n",
       "2981    1167     380  0000-00-00 00:00:00  1048338  \n",
       "2982    1058     153  0000-00-00 00:00:00  1048399  \n",
       "2983    1486      86  0000-00-00 00:00:00  1048400  \n",
       "2984    1196      46  0000-00-00 00:00:00  1048511  \n",
       "2985    1083     225  0000-00-00 00:00:00  1048569  \n",
       "\n",
       "[2986 rows x 9 columns]"
      ]
     },
     "execution_count": 20,
     "metadata": {},
     "output_type": "execute_result"
    }
   ],
   "source": [
    "import pandas as pd\n",
    "\n",
    "bus1000_all = pd.DataFrame(bus1000_all)\n",
    "bus1000_all.columns = ['사용일자', '노선번호', '노선명', '버스정류장ARS번호', '역명', '승차총승객수', '하차총승객수',\n",
    " '등록일자', 'id']\n",
    "\n",
    "bus1000_all"
   ]
  },
  {
   "cell_type": "markdown",
   "metadata": {},
   "source": [
    "database는 다르지만 아래와 같이 포매팅(%)을 통해 다양한 데이터를 한번에 가져올 수도 있습니다. 직접 코드를 실행해 보세요:)"
   ]
  },
  {
   "cell_type": "code",
   "execution_count": 46,
   "metadata": {},
   "outputs": [
    {
     "data": {
      "text/plain": [
       "34008"
      ]
     },
     "execution_count": 46,
     "metadata": {},
     "output_type": "execute_result"
    }
   ],
   "source": [
    "# SELECT \n",
    "sql = \"SELECT * FROM your_table_name WHERE 노선번호 REGEXP '^[강남]';\"\n",
    "cursor.execute(sql)"
   ]
  },
  {
   "cell_type": "code",
   "execution_count": null,
   "metadata": {},
   "outputs": [],
   "source": [
    "# DELETE\n",
    "sql = \"DELETE FROM your_table_name WHERE 노선번호 REGEXP '^[강남]';\"\n",
    "cursor.execute(sql)\n",
    "db.commit()"
   ]
  },
  {
   "cell_type": "code",
   "execution_count": null,
   "metadata": {},
   "outputs": [],
   "source": [
    "data = [['사용일자', 원하는_날짜], ['노선번호', 원하는_번호], ['노선명', 원하는_노선명], ['버스정류장ARS번호',원하는_번호], \n",
    "['역명', 원하는_역명], ['승차총승객수', 원하는_숫자], ['하차총승객수', 원하는_숫자], ['등록일자', 원하는_날짜], ['id', 원하는_id]]\n",
    "\n",
    "# INSERT \n",
    "sql = \"\"\"INSERT INTO your_table_name('사용일자', '노선번호', '노선명', '버스정류장ARS번호', '역명', '승차총승객수', '하차총승객수',\n",
    " '등록일자', 'id') VALUES (%s, %s, %s, %s, %s, %s, %s, %s, %s);\n",
    " \"\"\"\n",
    " \n",
    "cursor.executemany(sql, data)\n",
    "db.commit()"
   ]
  },
  {
   "cell_type": "code",
   "execution_count": 49,
   "metadata": {},
   "outputs": [],
   "source": [
    "data = [['노선명', 10000], ['노선명', 10000]]\n",
    "\n",
    "# UPDATE \n",
    "sql = \"UPDATE your_table_name SET `노선명` = %s WHERE `id` < %s;\"\n",
    "cursor.executemany(sql, data)\n",
    "db.commit()"
   ]
  },
  {
   "cell_type": "code",
   "execution_count": null,
   "metadata": {},
   "outputs": [],
   "source": []
  }
 ],
 "metadata": {
  "interpreter": {
   "hash": "0b64aca57e38326f4649c0693dee1e1f969491e5e01535562ea325e24967b854"
  },
  "kernelspec": {
   "display_name": "Python 3.8.8 64-bit ('python36': conda)",
   "name": "python3"
  },
  "language_info": {
   "codemirror_mode": {
    "name": "ipython",
    "version": 3
   },
   "file_extension": ".py",
   "mimetype": "text/x-python",
   "name": "python",
   "nbconvert_exporter": "python",
   "pygments_lexer": "ipython3",
   "version": "3.8.8"
  },
  "toc": {
   "base_numbering": 1,
   "nav_menu": {},
   "number_sections": true,
   "sideBar": true,
   "skip_h1_title": false,
   "title_cell": "Table of Contents",
   "title_sidebar": "Contents",
   "toc_cell": false,
   "toc_position": {},
   "toc_section_display": true,
   "toc_window_display": false
  },
  "varInspector": {
   "cols": {
    "lenName": 16,
    "lenType": 16,
    "lenVar": 40
   },
   "kernels_config": {
    "python": {
     "delete_cmd_postfix": "",
     "delete_cmd_prefix": "del ",
     "library": "var_list.py",
     "varRefreshCmd": "print(var_dic_list())"
    },
    "r": {
     "delete_cmd_postfix": ") ",
     "delete_cmd_prefix": "rm(",
     "library": "var_list.r",
     "varRefreshCmd": "cat(var_dic_list()) "
    }
   },
   "types_to_exclude": [
    "module",
    "function",
    "builtin_function_or_method",
    "instance",
    "_Feature"
   ],
   "window_display": false
  }
 },
 "nbformat": 4,
 "nbformat_minor": 4
}

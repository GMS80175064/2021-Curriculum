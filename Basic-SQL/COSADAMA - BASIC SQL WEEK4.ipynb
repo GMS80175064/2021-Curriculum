{
 "cells": [
  {
   "cell_type": "markdown",
   "metadata": {},
   "source": [
    "# 목차   \n",
    "\n",
    "1. PymySQL이란?\n",
    "    - PyMySQL 소개\n",
    "    - PyMySQL 사용하는 이유    \n",
    "    \n",
    "    \n",
    "2. PyMySQL 기본 사용법   \n",
    "    2-1 PymySQL 설치하기    \n",
    "    2-2 DB 연결하기, Cursor 사용 (pattern)     \n",
    "    - host, port, user, charset 설정 방법 (어떤 역할을 하는 지 간단한 설명) \n",
    "    2-3 PyMySQL 문법 익히기 \n",
    "    - INSERT (기본, for문으로 넣는 방법) \n",
    "    - SELECT (기본, for문, where문으로 분석하는 방법)    \n",
    "    \n",
    "    -> 결국 python 문법(코드)로 MySQL을 조작할 수 있다는 것을 알려주기 위한 것!   \n",
    "    \n",
    "    - `pandas library 와 pymysql ???`   \n",
    "    \n",
    "   \n",
    "3. PyMySQL 심화(?) 사용법    \n",
    "    3-1 크롤링해서 바로 db화 하기 (현재는 bs4가 최선이라고 생각함)\n",
    "    \n",
    "       \n",
    "4. 추가 팁!   \n",
    "    4-1 PyMySQL로 csv파일 db에 넣기 (+workbench에서 넣는 법도 알려주기) "
   ]
  },
  {
   "cell_type": "markdown",
   "metadata": {},
   "source": [
    "__Patterns__\n",
    "\n",
    "1. import \n",
    "2. connect\n",
    "3. cursor 사용하기 \n",
    "4. sql구문 만들기\n",
    "5. cursor excute\n",
    "6. commit\n",
    "7. db 닫아주기"
   ]
  },
  {
   "cell_type": "markdown",
   "metadata": {},
   "source": [
    "# 0910 ver. Notion Review"
   ]
  },
  {
   "cell_type": "markdown",
   "metadata": {},
   "source": [
    "anaconda prompt에서 `pip install pymysql` 해줘야 함."
   ]
  },
  {
   "cell_type": "code",
   "execution_count": 1,
   "metadata": {},
   "outputs": [],
   "source": [
    "import pymysql"
   ]
  },
  {
   "cell_type": "markdown",
   "metadata": {},
   "source": [
    "* host, port, user에 대한 설명 필요할 듯\n",
    "    * host, port, user는 대부분 localhost, 3306, root 일 것.\n",
    "    * 바꿔줘야 할부분은 passwe, db\n",
    "    * charset (character set)은 한글 데이터 처리를 위한 코드.   \n",
    "    \n",
    "    \n",
    "\n",
    "* pymysql 왜 colab으로는 안될까??    \n",
    "`(2003, \"Can't connect to MySQL server on 'localhost' ([Errno 99] Cannot assign requested address)\")` 에러 발생\n",
    "* 이전에 db를 만들어 놓아야 함. "
   ]
  },
  {
   "cell_type": "markdown",
   "metadata": {},
   "source": [
    "### DB연결 및 cursor"
   ]
  },
  {
   "cell_type": "markdown",
   "metadata": {},
   "source": [
    "__!!! 미리 test 라는 db를 만들어 놓아야 함__ (db이름은 임의로 선정함) \n",
    "\n",
    "https://devpouch.tistory.com/96"
   ]
  },
  {
   "cell_type": "code",
   "execution_count": 2,
   "metadata": {
    "code_folding": [],
    "run_control": {
     "marked": false
    }
   },
   "outputs": [],
   "source": [
    "#1. import pymysql\n",
    "import pymysql\n",
    "\n",
    "# 2. pymysql.connect() 메서드를 사용해 MySQL에 연결\n",
    "## port번호의 경우 기본으로 3306이 설정되어 있지만, 공유된 서버를 사용하는 경우 달라질 수 있음.\n",
    "db = pymysql.connect(host = 'localhost', port = 3306, user='root', passwd = '', db='test', charset='utf8')\n",
    "\n",
    "\n",
    "# 3. cursor 사용하기\n",
    "## connection 객체로부터 cursor() 매서드를 호출하여 Cursur 된 객체를 가져옴.\n",
    "## 쉽게 말해 커서를 가져다가 클릭한다고 생각하시면 됩니다.\n",
    "\n",
    "### cursor 객체(object) 가져오기\n",
    "cursor = db.cursor()\n",
    "\n",
    "# 4. sql 구문 만들기\n",
    "### sql 문법 문자열로 작성하기\n",
    "sql = \"\"\"\n",
    "CREATE TABLE COSADAMA (\n",
    "    ID INT NOT NULL AUTO_INCREMENT,\n",
    "    NAME VARCHAR(20) NOT NULL,\n",
    "    INTEREST VARCHAR(20),\n",
    "    PRIMARY KEY(ID)\n",
    "        );\n",
    "\"\"\"\n",
    "\n",
    "# 5. cursor execute\n",
    "### sql에 저장된 쿼리 실행\n",
    "cursor.execute(sql)\n",
    "\n",
    "### 간단하게 문자열을 직접 삽입 가능\n",
    "cursor.execute(\"SHOW TABLES\")\n",
    "\n",
    "# 6. commit하기(확정 반영) \n",
    "db.commit()\n",
    "\n",
    "\n",
    "# 7. db연결 닫기\n",
    "db.close()"
   ]
  },
  {
   "cell_type": "markdown",
   "metadata": {},
   "source": [
    "cursor = db.cursor() --> 이부분 () 빠짐!!"
   ]
  },
  {
   "cell_type": "markdown",
   "metadata": {},
   "source": [
    "### Insert + for"
   ]
  },
  {
   "cell_type": "code",
   "execution_count": 3,
   "metadata": {
    "run_control": {
     "marked": false
    }
   },
   "outputs": [
    {
     "name": "stdout",
     "output_type": "stream",
     "text": [
      "INSERT INTO COSADAMA (ID, NAME, INTEREST) VALUES(10, 'Unknown', 'Unknown')\n",
      "INSERT INTO COSADAMA (ID, NAME, INTEREST) VALUES(11, 'Unknown', 'Unknown')\n",
      "INSERT INTO COSADAMA (ID, NAME, INTEREST) VALUES(12, 'Unknown', 'Unknown')\n",
      "INSERT INTO COSADAMA (ID, NAME, INTEREST) VALUES(13, 'Unknown', 'Unknown')\n",
      "INSERT INTO COSADAMA (ID, NAME, INTEREST) VALUES(14, 'Unknown', 'Unknown')\n",
      "INSERT INTO COSADAMA (ID, NAME, INTEREST) VALUES(15, 'Unknown', 'Unknown')\n",
      "INSERT INTO COSADAMA (ID, NAME, INTEREST) VALUES(16, 'Unknown', 'Unknown')\n",
      "INSERT INTO COSADAMA (ID, NAME, INTEREST) VALUES(17, 'Unknown', 'Unknown')\n",
      "INSERT INTO COSADAMA (ID, NAME, INTEREST) VALUES(18, 'Unknown', 'Unknown')\n",
      "INSERT INTO COSADAMA (ID, NAME, INTEREST) VALUES(19, 'Unknown', 'Unknown')\n",
      "19\n"
     ]
    }
   ],
   "source": [
    "import pymysql\n",
    "import pandas as pd\n",
    "\n",
    "host_name = 'localhost'\n",
    "host_port = 3306 \n",
    "username = 'root'\n",
    "password = ''\n",
    "database_name = 'test'\n",
    "\n",
    "db = pymysql.connect(\n",
    "     host=host_name,     # MySQL Server Address\n",
    "     port=host_port,     # MySQL Server Port\n",
    "     user=username,      # MySQL username\n",
    "     passwd=password,    # password for MySQL username\n",
    "     db=database_name,   # Database name\n",
    "     charset='utf8'\n",
    " )\n",
    "\n",
    "try:\n",
    "    cursor = db.cursor()\n",
    "    for num in range(10,20):\n",
    "        sql = \"INSERT INTO COSADAMA (ID, NAME, INTEREST) VALUES(\"+ str(num) +\", 'Unknown', 'Unknown')\"\n",
    "        print(sql)\n",
    "        cursor.execute(sql)\n",
    "    \n",
    "    db.commit()\n",
    "    print(cursor.lastrowid)\n",
    "\n",
    "finally:\n",
    "    db.close()"
   ]
  },
  {
   "cell_type": "markdown",
   "metadata": {},
   "source": [
    "finally 스펠링 오류?    \n",
    "\n",
    "__for 문으로 Name, Interest 까지 리스트에서 넣어주는 코드 추가해야함__"
   ]
  },
  {
   "cell_type": "code",
   "execution_count": null,
   "metadata": {},
   "outputs": [],
   "source": [
    "name=[]\n",
    "interest=[]\n",
    "\n",
    "for num in range(10,20):\n",
    "    for name, interest in zip(name, interest):\n",
    "        sql = \"INSERT INTO COSADAMA (ID, NAME, INTEREST) VALUES(\"+ str(num) +\", name, interest)\"\n",
    "        print(sql)\n",
    "        cursor.execute(sql)"
   ]
  },
  {
   "cell_type": "markdown",
   "metadata": {},
   "source": [
    "### Select\n",
    "\n",
    "for문 사용 안한 기본 select 예제도 넣어주기 "
   ]
  },
  {
   "cell_type": "code",
   "execution_count": 5,
   "metadata": {
    "code_folding": []
   },
   "outputs": [
    {
     "name": "stdout",
     "output_type": "stream",
     "text": [
      "10\n",
      "Unknown\n",
      "Unknown\n",
      "11\n",
      "Unknown\n",
      "Unknown\n",
      "12\n",
      "Unknown\n",
      "Unknown\n",
      "13\n",
      "Unknown\n",
      "Unknown\n",
      "14\n",
      "Unknown\n",
      "Unknown\n",
      "15\n",
      "Unknown\n",
      "Unknown\n",
      "16\n",
      "Unknown\n",
      "Unknown\n",
      "17\n",
      "Unknown\n",
      "Unknown\n",
      "18\n",
      "Unknown\n",
      "Unknown\n",
      "19\n",
      "Unknown\n",
      "Unknown\n"
     ]
    }
   ],
   "source": [
    "# fetch = 나열, 정렬하다. \n",
    "# 서버에서 가져온 데이터를 배열 형식으로 저장(fetch)하여 사용\n",
    "# 쉽게 말해서 서버 데이터를 파이썬에서 이용할 때 array로 저장할 때 사용\n",
    "# row 기준\n",
    "\n",
    "# fetchall(): row 전체 fetch\n",
    "# fetchmany(size=None): 여러 row fetch\n",
    "# fetchone(): 다음 row fetch\n",
    "\n",
    "host_name = 'localhost'\n",
    "host_port = 3306\n",
    "username = 'root'\n",
    "password = ''\n",
    "database_name = 'test'\n",
    "\n",
    "db = pymysql.connect(\n",
    "     host=host_name,     # MySQL Server Address\n",
    "     port=host_port,     # MySQL Server Port\n",
    "     user=username,      # MySQL username\n",
    "     passwd=password,    # password for MySQL username\n",
    "     db=database_name,   # Database name\n",
    "     charset='utf8'\n",
    " )\n",
    "\n",
    "\n",
    "try:\n",
    "    cursor = db.cursor()\n",
    "    sql = \"SELECT * FROM COSADAMA\"\n",
    "    \n",
    "    cursor.execute(sql)\n",
    "    result = cursor.fetchall()\n",
    "    \n",
    "    for row_data in result:\n",
    "        print(row_data[0])\n",
    "        print(row_data[1])\n",
    "        print(row_data[2])\n",
    "        #print(row_data[3])\n",
    "\n",
    "finally:\n",
    "    db.close()"
   ]
  },
  {
   "cell_type": "markdown",
   "metadata": {},
   "source": [
    "### Select - Where"
   ]
  },
  {
   "cell_type": "code",
   "execution_count": 7,
   "metadata": {},
   "outputs": [
    {
     "ename": "AttributeError",
     "evalue": "__enter__",
     "output_type": "error",
     "traceback": [
      "\u001b[1;31m---------------------------------------------------------------------------\u001b[0m",
      "\u001b[1;31mAttributeError\u001b[0m                            Traceback (most recent call last)",
      "\u001b[1;32m<ipython-input-7-334be5ebd038>\u001b[0m in \u001b[0;36m<module>\u001b[1;34m\u001b[0m\n\u001b[0;32m     15\u001b[0m \u001b[1;33m\u001b[0m\u001b[0m\n\u001b[0;32m     16\u001b[0m \u001b[1;32mtry\u001b[0m\u001b[1;33m:\u001b[0m\u001b[1;33m\u001b[0m\u001b[1;33m\u001b[0m\u001b[0m\n\u001b[1;32m---> 17\u001b[1;33m     \u001b[1;32mwith\u001b[0m \u001b[0mdb\u001b[0m\u001b[1;33m.\u001b[0m\u001b[0mcursor\u001b[0m \u001b[1;32mas\u001b[0m \u001b[0mcursor\u001b[0m\u001b[1;33m:\u001b[0m\u001b[1;33m\u001b[0m\u001b[1;33m\u001b[0m\u001b[0m\n\u001b[0m\u001b[0;32m     18\u001b[0m         \u001b[0msql\u001b[0m \u001b[1;33m=\u001b[0m \u001b[1;34m\"SELECT * FROM COSADAMA WHERE name ='고다람'\"\u001b[0m\u001b[1;33m\u001b[0m\u001b[1;33m\u001b[0m\u001b[0m\n\u001b[0;32m     19\u001b[0m \u001b[1;33m\u001b[0m\u001b[0m\n",
      "\u001b[1;31mAttributeError\u001b[0m: __enter__"
     ]
    }
   ],
   "source": [
    "host_name = 'localhost'\n",
    "host_port = 3306\n",
    "username = 'root'\n",
    "password = ''\n",
    "database_name = 'test'\n",
    "\n",
    "db = pymysql.connect(\n",
    "     host=host_name,     # MySQL Server Address\n",
    "     port=host_port,     # MySQL Server Port\n",
    "     user=username,      # MySQL username\n",
    "     passwd=password,    # password for MySQL username\n",
    "     db=database_name,   # Database name\n",
    "     charset='utf8'\n",
    " )\n",
    "\n",
    "try:\n",
    "    with db.cursor as cursor:\n",
    "        sql = \"SELECT * FROM COSADAMA WHERE name ='고다람'\"\n",
    "\n",
    "        cursor.execute(sql)\n",
    "\n",
    "        while result:\n",
    "            result = cursor.fetchone()\n",
    "            print(result)\n",
    "\n",
    "finally:\n",
    "    db.close()"
   ]
  },
  {
   "cell_type": "markdown",
   "metadata": {},
   "source": [
    "Name Insert 해준 뒤에 실행되는 코드 "
   ]
  },
  {
   "cell_type": "markdown",
   "metadata": {},
   "source": [
    "### Crawling"
   ]
  },
  {
   "cell_type": "code",
   "execution_count": 2,
   "metadata": {},
   "outputs": [
    {
     "ename": "NameError",
     "evalue": "name 'get_category' is not defined",
     "output_type": "error",
     "traceback": [
      "\u001b[1;31m---------------------------------------------------------------------------\u001b[0m",
      "\u001b[1;31mNameError\u001b[0m                                 Traceback (most recent call last)",
      "\u001b[1;32m<ipython-input-2-dd0c751cc5fc>\u001b[0m in \u001b[0;36m<module>\u001b[1;34m\u001b[0m\n\u001b[0;32m     25\u001b[0m \u001b[0mcategories\u001b[0m \u001b[1;33m=\u001b[0m \u001b[0msoup\u001b[0m\u001b[1;33m.\u001b[0m\u001b[0mselect\u001b[0m\u001b[1;33m(\u001b[0m\u001b[1;34m'div.gbest-cate ul.by-group li a'\u001b[0m\u001b[1;33m)\u001b[0m\u001b[1;33m\u001b[0m\u001b[1;33m\u001b[0m\u001b[0m\n\u001b[0;32m     26\u001b[0m \u001b[1;32mfor\u001b[0m \u001b[0mcategory\u001b[0m \u001b[1;32min\u001b[0m \u001b[0mcategories\u001b[0m\u001b[1;33m:\u001b[0m\u001b[1;33m\u001b[0m\u001b[1;33m\u001b[0m\u001b[0m\n\u001b[1;32m---> 27\u001b[1;33m     \u001b[0mget_category\u001b[0m\u001b[1;33m(\u001b[0m\u001b[1;34m'http://corners.gmarket.co.kr/'\u001b[0m \u001b[1;33m+\u001b[0m \u001b[0mcategory\u001b[0m\u001b[1;33m[\u001b[0m\u001b[1;34m'href'\u001b[0m\u001b[1;33m]\u001b[0m\u001b[1;33m,\u001b[0m \u001b[0mcategory\u001b[0m\u001b[1;33m.\u001b[0m\u001b[0mget_text\u001b[0m\u001b[1;33m(\u001b[0m\u001b[1;33m)\u001b[0m\u001b[1;33m)\u001b[0m\u001b[1;33m\u001b[0m\u001b[1;33m\u001b[0m\u001b[0m\n\u001b[0m\u001b[0;32m     28\u001b[0m \u001b[1;33m\u001b[0m\u001b[0m\n\u001b[0;32m     29\u001b[0m \u001b[0mdb\u001b[0m\u001b[1;33m.\u001b[0m\u001b[0mcommit\u001b[0m\u001b[1;33m(\u001b[0m\u001b[1;33m)\u001b[0m\u001b[1;33m\u001b[0m\u001b[1;33m\u001b[0m\u001b[0m\n",
      "\u001b[1;31mNameError\u001b[0m: name 'get_category' is not defined"
     ]
    }
   ],
   "source": [
    "import requests\n",
    "from bs4 import BeautifulSoup\n",
    "import pymysql\n",
    "\n",
    "host_name = 'localhost'\n",
    "host_port = 3306\n",
    "username = 'root'\n",
    "password = ''\n",
    "database_name = 'test'\n",
    "\n",
    "db = pymysql.connect(\n",
    "     host=host_name,     # MySQL Server Address\n",
    "     port=host_port,     # MySQL Server Port\n",
    "     user=username,      # MySQL username\n",
    "     passwd=password,    # password for MySQL username\n",
    "     db=database_name,   # Database name\n",
    "     charset='utf8'\n",
    " )\n",
    "\n",
    "cursor = db.cursor()\n",
    "\n",
    "res = requests.get('http://corners.gmarket.co.kr/Bestsellers')\n",
    "soup = BeautifulSoup(res.content, 'html.parser')\n",
    "\n",
    "categories = soup.select('div.gbest-cate ul.by-group li a')\n",
    "for category in categories:\n",
    "    get_category('http://corners.gmarket.co.kr/' + category['href'], category.get_text())\n",
    "\n",
    "db.commit()\n",
    "db.close()"
   ]
  },
  {
   "cell_type": "code",
   "execution_count": null,
   "metadata": {},
   "outputs": [],
   "source": []
  }
 ],
 "metadata": {
  "kernelspec": {
   "display_name": "Python 3",
   "language": "python",
   "name": "python3"
  },
  "language_info": {
   "codemirror_mode": {
    "name": "ipython",
    "version": 3
   },
   "file_extension": ".py",
   "mimetype": "text/x-python",
   "name": "python",
   "nbconvert_exporter": "python",
   "pygments_lexer": "ipython3",
   "version": "3.7.6"
  },
  "toc": {
   "base_numbering": 1,
   "nav_menu": {},
   "number_sections": true,
   "sideBar": true,
   "skip_h1_title": false,
   "title_cell": "Table of Contents",
   "title_sidebar": "Contents",
   "toc_cell": false,
   "toc_position": {},
   "toc_section_display": true,
   "toc_window_display": false
  },
  "varInspector": {
   "cols": {
    "lenName": 16,
    "lenType": 16,
    "lenVar": 40
   },
   "kernels_config": {
    "python": {
     "delete_cmd_postfix": "",
     "delete_cmd_prefix": "del ",
     "library": "var_list.py",
     "varRefreshCmd": "print(var_dic_list())"
    },
    "r": {
     "delete_cmd_postfix": ") ",
     "delete_cmd_prefix": "rm(",
     "library": "var_list.r",
     "varRefreshCmd": "cat(var_dic_list()) "
    }
   },
   "types_to_exclude": [
    "module",
    "function",
    "builtin_function_or_method",
    "instance",
    "_Feature"
   ],
   "window_display": false
  }
 },
 "nbformat": 4,
 "nbformat_minor": 4
}

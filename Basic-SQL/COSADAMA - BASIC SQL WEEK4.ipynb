{
 "cells": [
  {
   "cell_type": "markdown",
   "metadata": {},
   "source": [
    "# COSADAMA - BASIC SQL WEEK4  \n",
    "# 목차   \n",
    "\n",
    "1. PymySQL이란?\n",
    "    - PyMySQL 소개\n",
    "    - PyMySQL 사용하는 이유    \n",
    "    \n",
    "    \n",
    "2. PyMySQL 기본 사용법   \n",
    "    2-1 PymySQL 설치하기    \n",
    "    2-2 DB 연결하기, Cursor 사용 (pattern)     \n",
    "    - host, port, user, charset 설정 방법 (어떤 역할을 하는 지 간단한 설명) \n",
    "    2-3 PyMySQL 문법 익히기 \n",
    "    - INSERT (기본, for문으로 넣는 방법) \n",
    "    - SELECT (기본, for문, where문으로 분석하는 방법)    \n",
    "    \n",
    "    -> 결국 python 문법(코드)로 MySQL을 조작할 수 있다는 것을 알려주기 위한 것!   \n",
    "    \n",
    "    - `pandas library 와 pymysql ???`   \n",
    "    \n",
    "   \n",
    "3. PyMySQL 심화(?) 사용법    \n",
    "    3-1 크롤링해서 바로 db화 하기 (현재는 bs4가 최선이라고 생각함)\n",
    "    \n",
    "       \n",
    "4. 추가 팁!   \n",
    "    4-1 PyMySQL로 csv파일 db에 넣기 (+workbench에서 넣는 법도 알려주기) "
   ]
  },
  {
   "cell_type": "markdown",
   "metadata": {},
   "source": [
    "__Patterns__\n",
    "\n",
    "1. import \n",
    "2. connect\n",
    "3. cursor 사용하기 \n",
    "4. sql구문 만들기\n",
    "5. cursor excute\n",
    "6. commit\n",
    "7. db 닫아주기"
   ]
  },
  {
   "cell_type": "markdown",
   "metadata": {},
   "source": [
    "# 0910 ver. Notion Review"
   ]
  },
  {
   "cell_type": "markdown",
   "metadata": {},
   "source": [
    "anaconda prompt에서 `pip install pymysql` 해줘야 함."
   ]
  },
  {
   "cell_type": "markdown",
   "metadata": {},
   "source": [
    "## 1. PyMySQL 소개"
   ]
  },
  {
   "cell_type": "markdown",
   "metadata": {},
   "source": [
    "- PyMySQL: PyMySQL은 PyMySQL은 MySQL을 python에서 사용할 수 있는 라이브러리입니다. MySQLdb, MySQL connector 등 다양한 라이브러리가 있지만, PyMySQL의 설치가 가장 쉽기 때문에 PyMySQL을 선택하게 되었습니다.\n",
    "\n",
    "- PyMySQL을 사용하는 이유: "
   ]
  },
  {
   "cell_type": "markdown",
   "metadata": {},
   "source": [
    "### 1.0. 기본 개념"
   ]
  },
  {
   "cell_type": "markdown",
   "metadata": {},
   "source": [
    "![pymysql_기본개념](./contents/pymysql_기본개념.png)"
   ]
  },
  {
   "cell_type": "markdown",
   "metadata": {},
   "source": [
    "* host, port, user에 대한 설명\n",
    "    * host, port, user는 대부분 localhost, 3306, root 일 것.\n",
    "    * 바꿔줘야 할부분은 passwe, db\n",
    "    * charset (character set)은 한글 데이터 처리를 위한 코드.   \n",
    "\n",
    "- network: 우리는 인터넷, 인트라넷 등 네트워크 상에서 정보를 주고 받게 됩니다. 이때 네트워크에 연결된 모든 장치를 노드node라고 부릅니다.\n",
    "\n",
    "- host: 노드 중에서 네트워크 주소(IP)가 할당된 즉, 인터넷에 연결된 컴퓨터, 노트북, 핸드폰 등등 모두 host이고, 이 host끼리 서로 데이터를 주고 받습니다.\n",
    "\n",
    "- process: 프로그램, 어플리케이션, 소프트웨어 등 기기 동작의 총칭.\n",
    "\n",
    "- 네트워크 상에서 데이터를 주고 받는다?: 한 호스트의 프로세스 된 데이터가 다른 호스트의 프로세스까지 오고 갔다! 예를 들어 SLACK에서 DM을 보냈다면 상대방의 SLACK에 DM이 도착해야 합니다.\n",
    "\n",
    "- port: '네트워크를 통해 데이터를 주고 받는 프로세스를 **식별**하기 위해 호스트 내부적으로 프로세스가 할당 받는 고유한 값'. 데이터가 누구한테 가야할지, 데이터를 누가 보냈는지 알려주는 주소 같은 개념입니다. 한 호스트 내에서 네트워크 통신을 하는 프로세스를 식별하기 위해 사용되는 값이므로 (기본적으로) 같은 호스트 내에서 다른 프로세스가 같은 포트 넘버를 가질 수 없습니다.\n",
    "\n",
    "- socket: '프로세스가 네트워크를 통해 데이터를 주고 받으려면 반드시 열어야 하는 창구' 프로세스가 데이터를 보내고 받기 위해서는 socket을 열어야 합니다. 비유하자면 편지를 보내려면 우체국이 열려 있어야 하는 상황이죠. 이때 socket을 열기 위해서는 host에 할당된 ip주소, 포트 넘버, 프로토콜(통신 규약) 세 가지가 필요하고, 이 세 가지가 소켓을 정의합니다.\n",
    "    \n",
    "\n",
    "* pymysql 왜 colab으로는 안될까??    \n",
    "`(2003, \"Can't connect to MySQL server on 'localhost' ([Errno 99] Cannot assign requested address)\")` 에러 발생\n",
    "* 이전에 db를 만들어 놓아야 함. "
   ]
  },
  {
   "cell_type": "markdown",
   "metadata": {},
   "source": [
    "## 2. PyMySQL 기본 사용법"
   ]
  },
  {
   "cell_type": "markdown",
   "metadata": {},
   "source": [
    "## 2.1. 설치 및 기본 연결"
   ]
  },
  {
   "cell_type": "markdown",
   "metadata": {},
   "source": [
    "먼저 `pip install PyMySQL`을 통해 PyMySQL을 설치합니다."
   ]
  },
  {
   "cell_type": "code",
   "execution_count": null,
   "metadata": {},
   "outputs": [],
   "source": [
    "pip install PyMySQL"
   ]
  },
  {
   "cell_type": "code",
   "execution_count": 1,
   "metadata": {},
   "outputs": [],
   "source": [
    "import pymysql"
   ]
  },
  {
   "cell_type": "markdown",
   "metadata": {},
   "source": [
    "### 2.1.0. 'crawling' db 미리 만들기\n",
    "\n",
    "https://devpouch.tistory.com/96"
   ]
  },
  {
   "cell_type": "code",
   "execution_count": null,
   "metadata": {},
   "outputs": [],
   "source": [
    "import pymysql\n",
    "\n",
    "conn = pymysql.connect(host='localhost', user='root', \n",
    "                       password='password', charset='utf8') \n",
    "cursor = conn.cursor() \n",
    "\n",
    "sql = \"CREATE DATABASE crawling\" \n",
    "\n",
    "cursor.execute(sql) \n",
    "\n",
    "conn.commit() \n",
    "conn.close() "
   ]
  },
  {
   "cell_type": "markdown",
   "metadata": {},
   "source": [
    "### 2.1.1. MySQL DB 접속"
   ]
  },
  {
   "cell_type": "markdown",
   "metadata": {},
   "source": [
    "pymysql.connect()를 통해 MySQL, MySQL의 DB에 접속합니다."
   ]
  },
  {
   "cell_type": "code",
   "execution_count": null,
   "metadata": {},
   "outputs": [],
   "source": [
    "# 2.1. pymysql.connect() 메서드를 사용해 MySQL에 연결\n",
    "db = pymysql.connect(host = '접속할 mysql server 주소', port = 3306, user='mysql ID',\n",
    "\t\t\t\t\t\t\t\t\t\t\tpasswd = 'mysql passwd', db='접속할 DB', charset='utf8')\n"
   ]
  },
  {
   "cell_type": "markdown",
   "metadata": {},
   "source": [
    "### 2.1.2. DB 접속"
   ]
  },
  {
   "cell_type": "markdown",
   "metadata": {},
   "source": [
    "DataBase에 대한 연결을 'db'로 정의해 주었기 때문에 그냥 db만 입력하면 접속됩니다."
   ]
  },
  {
   "cell_type": "code",
   "execution_count": null,
   "metadata": {},
   "outputs": [],
   "source": [
    "db"
   ]
  },
  {
   "cell_type": "markdown",
   "metadata": {},
   "source": [
    "### 2.1.3. cursor 사용하기\n",
    "- cursor: connection 객체로부터 cursor 메서드를 호출하여 cursor 객체를 가져옵니다. 즉, 커서를 가져다가 클릭하는 것처럼 동작합니다. 구체적으로 어떤 동작을 하는지는 cursor.execute(), cursor.commit(), cursor.close() 등 여러 명령어와 괄호 안에 들어갈 SQL 쿼리문에 달려 있습니다."
   ]
  },
  {
   "cell_type": "code",
   "execution_count": null,
   "metadata": {},
   "outputs": [],
   "source": [
    "### cursor 객체(object) 가져오기\n",
    "cursor = db.cursor\n",
    "\n",
    "### sql 문법 문자열로 작성하기\n",
    "sql = \"\"\"\n",
    "\t\tCREATE TABLE COSADAMA (\n",
    "\t\t\t\t\t ID INT NOT NULL AUTO_INCREMENT,\n",
    "\t\t\t\t\t NAME VARCHAR(20) NOT NULL,\n",
    "\t\t\t\t\t INTEREST VARCHAR(20),\n",
    "\t\t\t\t\t PRIMARY KEY(ID)\n",
    "\t\t);\n",
    "\"\"\"\n",
    "\n",
    "### sql에 저장된 쿼리 실행\n",
    "cursor.execute(sql)\n",
    "\n",
    "### 간단하게 문자열을 직접 삽입 가능\n",
    "cursor.execute(\"SHOW TABLES\")"
   ]
  },
  {
   "cell_type": "markdown",
   "metadata": {},
   "source": [
    "### 2.4. commit 및 close\n",
    "- commit: 변경한 내용을 확정해 MySQL DB에 반영하기\n",
    "- close: DB 연결 닫기"
   ]
  },
  {
   "cell_type": "code",
   "execution_count": null,
   "metadata": {},
   "outputs": [],
   "source": [
    "# commit하기(확정 반영) \n",
    "db.commit()\n",
    "\n",
    "# db연결 닫기\n",
    "db.close()"
   ]
  },
  {
   "cell_type": "markdown",
   "metadata": {},
   "source": [
    "### DB 한번에 연결하기(예시)"
   ]
  },
  {
   "cell_type": "code",
   "execution_count": null,
   "metadata": {},
   "outputs": [],
   "source": [
    "import pymysql\n",
    "import pandas as pd\n",
    "\n",
    "host_name = 'host_name'\n",
    "host_port = 3306\n",
    "username = 'user_name'\n",
    "password = 'your_password'\n",
    "database_name = 'student_mgmt'\n",
    "\n",
    "db = pymysql.connect(\n",
    "     host=host_name,     # MySQL Server Address\n",
    "     port=host_port,     # MySQL Server Port\n",
    "     user=username,      # MySQL username\n",
    "     passwd=password,    # password for MySQL username\n",
    "     db=database_name,   # Database name\n",
    "     charset='utf8'\n",
    " )"
   ]
  },
  {
   "cell_type": "markdown",
   "metadata": {},
   "source": [
    "## 2.2. PyMySQL  문법 익히기"
   ]
  },
  {
   "cell_type": "markdown",
   "metadata": {},
   "source": [
    "본격적으로 python을 결합한 쿼리를 만들어 봅시다! 이번 주차에서는 몇가지 예시만 제공하고 나머지 활용은 여러분의 몫으로 남겨 두려고 합니다."
   ]
  },
  {
   "cell_type": "markdown",
   "metadata": {},
   "source": [
    "### 2.2.1. INSERT문\n",
    "python의 **try\\~except**문을 활용해 오류 값을 제외하고 DB에 값을 추가해봅시다. 10~19번까지 id를 부여하고 이름과 취미는 모르는 상태라면 이렇게도 쓸 수 있습니다.\n",
    "\n",
    "마지막에 몇번째 row인지 cursor.lastrowid를 통해 알아볼 수도 있습니다."
   ]
  },
  {
   "cell_type": "code",
   "execution_count": null,
   "metadata": {},
   "outputs": [],
   "source": [
    "try:\n",
    "\t\tcursor = db.cursor()\n",
    "\t\tfor num in range(10,20):\n",
    "\t\t\t\tsql = \"INSERT INTO COSADAMA ( ID, NAME, INTEREST)\n",
    "\t\t\t\t\t\t\tVALUES(\"+ str(num) +\", 'Unknown', 'Unknown')\"\n",
    "\t\t\t\tprint(sql)\n",
    "\t\t\t\tcursor.execute(sql)\n",
    "\n",
    "\tdb.commit()\n",
    "\tprint(cursor.lastrowid)\n",
    "\n",
    "fianlly:\n",
    "\tdb.close()"
   ]
  },
  {
   "cell_type": "markdown",
   "metadata": {},
   "source": [
    "### 2.3.2. SELECT문\n",
    "이번에는 **fetch**를 통해 db에서 가져온 데이터를 배열Array 형식으로 저장fetch하여 사용해봅시다. database에 저장된 데이터의 경우 그 크기가 엄청날 수 있습니다. 이런 빅데이터를 빠르게 연산하기 위해서 배열array 형식으로 바꾸어 처리하곤 합니다.\n",
    "\n",
    "- fetch = 나열, 정렬하다. \n",
    "- fetchall(): row 전체 fetch\n",
    "- fetchmany(size=None): 여러 row fetch\n",
    "- fetchone(): 다음 row fetch"
   ]
  },
  {
   "cell_type": "code",
   "execution_count": null,
   "metadata": {},
   "outputs": [],
   "source": [
    "try:\n",
    "\t\tcursor = db.cursor()\n",
    "\t\tsql = \"SELECT * FROM COSADAMA\"\n",
    "\n",
    "\t\tcursor.execute(sql)\n",
    "\t\tresult = cursor.fetchall()\n",
    "\n",
    "        for i in range(4):\n",
    "            for row_data in result:\n",
    "                    print(row_data[i])\n",
    "        \n",
    "        print(result.info())\n",
    "\n",
    "fianlly:\n",
    "\tdb.close() "
   ]
  },
  {
   "cell_type": "markdown",
   "metadata": {},
   "source": [
    "### 2.3.3. 크롤링해서 바로 db화 하기"
   ]
  },
  {
   "cell_type": "markdown",
   "metadata": {},
   "source": [
    "이번에는 대망의 크롤링 데이터를 db화 하는 방법에 대해 배워보겠습니다. 이전 커리큘럼에서 scrapy를 통해 대용량의 크롤링을 하는 방법을 배웠습니다. 그렇게 구축한 csv 파일을 앞서 배운 것처럼 database에 업로드 해서 사용해야했습니다.\n",
    "\n",
    "이제는 PyMySQL을 활용해 BeautifulSoup으로 크롤링한 데이터를 바로 db화 하는 작업을 해 볼 예정입니다."
   ]
  },
  {
   "cell_type": "code",
   "execution_count": null,
   "metadata": {},
   "outputs": [],
   "source": [
    "import requests\n",
    "from bs4 import BeautifulSoup\n",
    "import pymysql\n",
    "\n",
    "host_name = 'host_name'\n",
    "host_port = 3306\n",
    "username = 'user_name'\n",
    "password = 'your_password'\n",
    "database_name = 'student_mgmt'\n",
    "\n",
    "# create table 코드 추가 필요!\n",
    "\n",
    "db = pymysql.connect(\n",
    "     host=host_name,     # MySQL Server Address\n",
    "     port=host_port,     # MySQL Server Port\n",
    "     user=username,      # MySQL username\n",
    "     passwd=password,    # password for MySQL username\n",
    "     db=database_name,   # Database name\n",
    "     charset='utf8'\n",
    " )\n",
    "\n",
    "cursor = db.cursor()\n",
    "\n",
    "res = requests.get('http://corners.gmarket.co.kr/Bestsellers')\n",
    "soup = BeautifulSoup(res.content, 'html.parser')\n",
    "\n",
    "categories = soup.select('div.gbest-cate ul.by-group li a')\n",
    "for category in categories:\n",
    "    get_category('http://corners.gmarket.co.kr/' + category['href'], category.get_text())\n",
    "\n",
    "db.commit()\n",
    "db.close()"
   ]
  },
  {
   "cell_type": "code",
   "execution_count": null,
   "metadata": {},
   "outputs": [],
   "source": []
  },
  {
   "cell_type": "code",
   "execution_count": 2,
   "metadata": {
    "code_folding": [],
    "run_control": {
     "marked": false
    }
   },
   "outputs": [],
   "source": [
    "#1. import pymysql\n",
    "import pymysql\n",
    "\n",
    "# 2. pymysql.connect() 메서드를 사용해 MySQL에 연결\n",
    "## port번호의 경우 기본으로 3306이 설정되어 있지만, 공유된 서버를 사용하는 경우 달라질 수 있음.\n",
    "db = pymysql.connect(host = 'localhost', port = 3306, \n",
    "                     user='root', passwd = 'your_password', db='test', \n",
    "                     charset='utf8')\n",
    "\n",
    "\n",
    "# 3. cursor 사용하기\n",
    "## connection 객체로부터 cursor() 매서드를 호출하여 Cursur 된 객체를 가져옴.\n",
    "## 쉽게 말해 커서를 가져다가 클릭한다고 생각하시면 됩니다.\n",
    "\n",
    "### cursor 객체(object) 가져오기\n",
    "cursor = db.cursor()\n",
    "\n",
    "# 4. sql 구문 만들기\n",
    "### sql 문법 문자열로 작성하기\n",
    "sql = \"\"\"\n",
    "CREATE TABLE COSADAMA (\n",
    "    ID INT NOT NULL AUTO_INCREMENT,\n",
    "    NAME VARCHAR(20) NOT NULL,\n",
    "    INTEREST VARCHAR(20),\n",
    "    PRIMARY KEY(ID)\n",
    "        );\n",
    "\"\"\"\n",
    "\n",
    "# 5. cursor execute\n",
    "### sql에 저장된 쿼리 실행\n",
    "cursor.execute(sql)\n",
    "\n",
    "### 간단하게 문자열을 직접 삽입 가능\n",
    "cursor.execute(\"SHOW TABLES\")\n",
    "\n",
    "# 6. commit하기(확정 반영) \n",
    "db.commit()\n",
    "\n",
    "\n",
    "# 7. db연결 닫기\n",
    "db.close()"
   ]
  },
  {
   "cell_type": "markdown",
   "metadata": {},
   "source": [
    "cursor = db.cursor() --> 이부분 () 빠짐!!"
   ]
  },
  {
   "cell_type": "markdown",
   "metadata": {},
   "source": [
    "### Insert + for"
   ]
  },
  {
   "cell_type": "code",
   "execution_count": 3,
   "metadata": {
    "run_control": {
     "marked": false
    }
   },
   "outputs": [
    {
     "name": "stdout",
     "output_type": "stream",
     "text": [
      "INSERT INTO COSADAMA (ID, NAME, INTEREST) VALUES(10, 'Unknown', 'Unknown')\n",
      "INSERT INTO COSADAMA (ID, NAME, INTEREST) VALUES(11, 'Unknown', 'Unknown')\n",
      "INSERT INTO COSADAMA (ID, NAME, INTEREST) VALUES(12, 'Unknown', 'Unknown')\n",
      "INSERT INTO COSADAMA (ID, NAME, INTEREST) VALUES(13, 'Unknown', 'Unknown')\n",
      "INSERT INTO COSADAMA (ID, NAME, INTEREST) VALUES(14, 'Unknown', 'Unknown')\n",
      "INSERT INTO COSADAMA (ID, NAME, INTEREST) VALUES(15, 'Unknown', 'Unknown')\n",
      "INSERT INTO COSADAMA (ID, NAME, INTEREST) VALUES(16, 'Unknown', 'Unknown')\n",
      "INSERT INTO COSADAMA (ID, NAME, INTEREST) VALUES(17, 'Unknown', 'Unknown')\n",
      "INSERT INTO COSADAMA (ID, NAME, INTEREST) VALUES(18, 'Unknown', 'Unknown')\n",
      "INSERT INTO COSADAMA (ID, NAME, INTEREST) VALUES(19, 'Unknown', 'Unknown')\n",
      "19\n"
     ]
    }
   ],
   "source": [
    "import pymysql\n",
    "import pandas as pd\n",
    "\n",
    "host_name = 'localhost'\n",
    "host_port = 3306 \n",
    "username = 'root'\n",
    "password = ''\n",
    "database_name = 'test'\n",
    "\n",
    "db = pymysql.connect(\n",
    "     host=host_name,     # MySQL Server Address\n",
    "     port=host_port,     # MySQL Server Port\n",
    "     user=username,      # MySQL username\n",
    "     passwd=password,    # password for MySQL username\n",
    "     db=database_name,   # Database name\n",
    "     charset='utf8'\n",
    " )\n",
    "\n",
    "try:\n",
    "    cursor = db.cursor()\n",
    "    for num in range(10,20):\n",
    "        sql = \"INSERT INTO COSADAMA (ID, NAME, INTEREST) VALUES(\"+ str(num) +\", 'Unknown', 'Unknown')\"\n",
    "        print(sql)\n",
    "        cursor.execute(sql)\n",
    "    \n",
    "    db.commit()\n",
    "    print(cursor.lastrowid)\n",
    "\n",
    "finally:\n",
    "    db.close()"
   ]
  },
  {
   "cell_type": "markdown",
   "metadata": {},
   "source": [
    "finally 스펠링 오류?    \n",
    "\n",
    "__for 문으로 Name, Interest 까지 리스트에서 넣어주는 코드 추가해야함__"
   ]
  },
  {
   "cell_type": "code",
   "execution_count": null,
   "metadata": {},
   "outputs": [],
   "source": [
    "name=[]\n",
    "interest=[]\n",
    "\n",
    "for num in range(10,20):\n",
    "    for name, interest in zip(name, interest):\n",
    "        sql = \"INSERT INTO COSADAMA (ID, NAME, INTEREST) VALUES(\"+ str(num) +\", name, interest)\"\n",
    "        print(sql)\n",
    "        cursor.execute(sql)"
   ]
  },
  {
   "cell_type": "markdown",
   "metadata": {},
   "source": [
    "### Select\n",
    "\n",
    "for문 사용 안한 기본 select 예제도 넣어주기 "
   ]
  },
  {
   "cell_type": "code",
   "execution_count": 5,
   "metadata": {
    "code_folding": []
   },
   "outputs": [
    {
     "name": "stdout",
     "output_type": "stream",
     "text": [
      "10\n",
      "Unknown\n",
      "Unknown\n",
      "11\n",
      "Unknown\n",
      "Unknown\n",
      "12\n",
      "Unknown\n",
      "Unknown\n",
      "13\n",
      "Unknown\n",
      "Unknown\n",
      "14\n",
      "Unknown\n",
      "Unknown\n",
      "15\n",
      "Unknown\n",
      "Unknown\n",
      "16\n",
      "Unknown\n",
      "Unknown\n",
      "17\n",
      "Unknown\n",
      "Unknown\n",
      "18\n",
      "Unknown\n",
      "Unknown\n",
      "19\n",
      "Unknown\n",
      "Unknown\n"
     ]
    }
   ],
   "source": [
    "# fetch = 나열, 정렬하다. \n",
    "# 서버에서 가져온 데이터를 배열 형식으로 저장(fetch)하여 사용\n",
    "# 쉽게 말해서 서버 데이터를 파이썬에서 이용할 때 array로 저장할 때 사용\n",
    "# row 기준\n",
    "\n",
    "# fetchall(): row 전체 fetch\n",
    "# fetchmany(size=None): 여러 row fetch\n",
    "# fetchone(): 다음 row fetch\n",
    "\n",
    "host_name = 'localhost'\n",
    "host_port = 3306\n",
    "username = 'root'\n",
    "password = ''\n",
    "database_name = 'test'\n",
    "\n",
    "db = pymysql.connect(\n",
    "     host=host_name,     # MySQL Server Address\n",
    "     port=host_port,     # MySQL Server Port\n",
    "     user=username,      # MySQL username\n",
    "     passwd=password,    # password for MySQL username\n",
    "     db=database_name,   # Database name\n",
    "     charset='utf8'\n",
    " )\n",
    "\n",
    "\n",
    "try:\n",
    "    cursor = db.cursor()\n",
    "    sql = \"SELECT * FROM COSADAMA\"\n",
    "    \n",
    "    cursor.execute(sql)\n",
    "    result = cursor.fetchall()\n",
    "    \n",
    "    for row_data in result:\n",
    "        print(row_data[0])\n",
    "        print(row_data[1])\n",
    "        print(row_data[2])\n",
    "        #print(row_data[3])\n",
    "\n",
    "finally:\n",
    "    db.close()"
   ]
  },
  {
   "cell_type": "markdown",
   "metadata": {},
   "source": [
    "### Select - Where"
   ]
  },
  {
   "cell_type": "code",
   "execution_count": 7,
   "metadata": {},
   "outputs": [
    {
     "ename": "AttributeError",
     "evalue": "__enter__",
     "output_type": "error",
     "traceback": [
      "\u001b[1;31m---------------------------------------------------------------------------\u001b[0m",
      "\u001b[1;31mAttributeError\u001b[0m                            Traceback (most recent call last)",
      "\u001b[1;32m<ipython-input-7-334be5ebd038>\u001b[0m in \u001b[0;36m<module>\u001b[1;34m\u001b[0m\n\u001b[0;32m     15\u001b[0m \u001b[1;33m\u001b[0m\u001b[0m\n\u001b[0;32m     16\u001b[0m \u001b[1;32mtry\u001b[0m\u001b[1;33m:\u001b[0m\u001b[1;33m\u001b[0m\u001b[1;33m\u001b[0m\u001b[0m\n\u001b[1;32m---> 17\u001b[1;33m     \u001b[1;32mwith\u001b[0m \u001b[0mdb\u001b[0m\u001b[1;33m.\u001b[0m\u001b[0mcursor\u001b[0m \u001b[1;32mas\u001b[0m \u001b[0mcursor\u001b[0m\u001b[1;33m:\u001b[0m\u001b[1;33m\u001b[0m\u001b[1;33m\u001b[0m\u001b[0m\n\u001b[0m\u001b[0;32m     18\u001b[0m         \u001b[0msql\u001b[0m \u001b[1;33m=\u001b[0m \u001b[1;34m\"SELECT * FROM COSADAMA WHERE name ='고다람'\"\u001b[0m\u001b[1;33m\u001b[0m\u001b[1;33m\u001b[0m\u001b[0m\n\u001b[0;32m     19\u001b[0m \u001b[1;33m\u001b[0m\u001b[0m\n",
      "\u001b[1;31mAttributeError\u001b[0m: __enter__"
     ]
    }
   ],
   "source": [
    "host_name = 'localhost'\n",
    "host_port = 3306\n",
    "username = 'root'\n",
    "password = ''\n",
    "database_name = 'test'\n",
    "\n",
    "db = pymysql.connect(\n",
    "     host=host_name,     # MySQL Server Address\n",
    "     port=host_port,     # MySQL Server Port\n",
    "     user=username,      # MySQL username\n",
    "     passwd=password,    # password for MySQL username\n",
    "     db=database_name,   # Database name\n",
    "     charset='utf8'\n",
    " )\n",
    "\n",
    "try:\n",
    "    with db.cursor as cursor:\n",
    "        sql = \"SELECT * FROM COSADAMA WHERE name ='고다람'\"\n",
    "\n",
    "        cursor.execute(sql)\n",
    "\n",
    "        while result:\n",
    "            result = cursor.fetchone()\n",
    "            print(result)\n",
    "\n",
    "finally:\n",
    "    db.close()"
   ]
  },
  {
   "cell_type": "markdown",
   "metadata": {},
   "source": [
    "Name Insert 해준 뒤에 실행되는 코드 "
   ]
  },
  {
   "cell_type": "markdown",
   "metadata": {},
   "source": [
    "### Crawling"
   ]
  },
  {
   "cell_type": "code",
   "execution_count": 2,
   "metadata": {},
   "outputs": [
    {
     "ename": "NameError",
     "evalue": "name 'get_category' is not defined",
     "output_type": "error",
     "traceback": [
      "\u001b[1;31m---------------------------------------------------------------------------\u001b[0m",
      "\u001b[1;31mNameError\u001b[0m                                 Traceback (most recent call last)",
      "\u001b[1;32m<ipython-input-2-dd0c751cc5fc>\u001b[0m in \u001b[0;36m<module>\u001b[1;34m\u001b[0m\n\u001b[0;32m     25\u001b[0m \u001b[0mcategories\u001b[0m \u001b[1;33m=\u001b[0m \u001b[0msoup\u001b[0m\u001b[1;33m.\u001b[0m\u001b[0mselect\u001b[0m\u001b[1;33m(\u001b[0m\u001b[1;34m'div.gbest-cate ul.by-group li a'\u001b[0m\u001b[1;33m)\u001b[0m\u001b[1;33m\u001b[0m\u001b[1;33m\u001b[0m\u001b[0m\n\u001b[0;32m     26\u001b[0m \u001b[1;32mfor\u001b[0m \u001b[0mcategory\u001b[0m \u001b[1;32min\u001b[0m \u001b[0mcategories\u001b[0m\u001b[1;33m:\u001b[0m\u001b[1;33m\u001b[0m\u001b[1;33m\u001b[0m\u001b[0m\n\u001b[1;32m---> 27\u001b[1;33m     \u001b[0mget_category\u001b[0m\u001b[1;33m(\u001b[0m\u001b[1;34m'http://corners.gmarket.co.kr/'\u001b[0m \u001b[1;33m+\u001b[0m \u001b[0mcategory\u001b[0m\u001b[1;33m[\u001b[0m\u001b[1;34m'href'\u001b[0m\u001b[1;33m]\u001b[0m\u001b[1;33m,\u001b[0m \u001b[0mcategory\u001b[0m\u001b[1;33m.\u001b[0m\u001b[0mget_text\u001b[0m\u001b[1;33m(\u001b[0m\u001b[1;33m)\u001b[0m\u001b[1;33m)\u001b[0m\u001b[1;33m\u001b[0m\u001b[1;33m\u001b[0m\u001b[0m\n\u001b[0m\u001b[0;32m     28\u001b[0m \u001b[1;33m\u001b[0m\u001b[0m\n\u001b[0;32m     29\u001b[0m \u001b[0mdb\u001b[0m\u001b[1;33m.\u001b[0m\u001b[0mcommit\u001b[0m\u001b[1;33m(\u001b[0m\u001b[1;33m)\u001b[0m\u001b[1;33m\u001b[0m\u001b[1;33m\u001b[0m\u001b[0m\n",
      "\u001b[1;31mNameError\u001b[0m: name 'get_category' is not defined"
     ]
    }
   ],
   "source": [
    "import requests\n",
    "from bs4 import BeautifulSoup\n",
    "import pymysql\n",
    "\n",
    "host_name = 'localhost'\n",
    "host_port = 3306\n",
    "username = 'root'\n",
    "password = ''\n",
    "database_name = 'test'\n",
    "\n",
    "db = pymysql.connect(\n",
    "     host=host_name,     # MySQL Server Address\n",
    "     port=host_port,     # MySQL Server Port\n",
    "     user=username,      # MySQL username\n",
    "     passwd=password,    # password for MySQL username\n",
    "     db=database_name,   # Database name\n",
    "     charset='utf8'\n",
    " )\n",
    "\n",
    "cursor = db.cursor()\n",
    "\n",
    "res = requests.get('http://corners.gmarket.co.kr/Bestsellers')\n",
    "soup = BeautifulSoup(res.content, 'html.parser')\n",
    "\n",
    "categories = soup.select('div.gbest-cate ul.by-group li a')\n",
    "for category in categories:\n",
    "    get_category('http://corners.gmarket.co.kr/' + category['href'], category.get_text())\n",
    "\n",
    "db.commit()\n",
    "db.close()"
   ]
  },
  {
   "cell_type": "markdown",
   "metadata": {},
   "source": [
    "### 참고\n",
    "[https://www.fun-coding.org/mysql_basic6.html#각-name-별-로우(Row)-수](https://www.fun-coding.org/mysql_basic6.html#%EA%B0%81-name-%EB%B3%84-%EB%A1%9C%EC%9A%B0(Row)-%EC%88%98)\n",
    "\n",
    "[https://devpouch.tistory.com/85](https://devpouch.tistory.com/85)\n",
    "\n",
    "[https://blog.naver.com/PostView.nhn?blogId=myca11&logNo=221389847130&categoryNo=24&parentCategoryNo=0&viewDate=&currentPage=1&postListTopCurrentPage=1&from=postView](https://blog.naver.com/PostView.nhn?blogId=myca11&logNo=221389847130&categoryNo=24&parentCategoryNo=0&viewDate=&currentPage=1&postListTopCurrentPage=1&from=postView)"
   ]
  },
  {
   "cell_type": "code",
   "execution_count": null,
   "metadata": {},
   "outputs": [],
   "source": []
  }
 ],
 "metadata": {
  "kernelspec": {
   "display_name": "Python 3",
   "language": "python",
   "name": "python3"
  },
  "language_info": {
   "codemirror_mode": {
    "name": "ipython",
    "version": 3
   },
   "file_extension": ".py",
   "mimetype": "text/x-python",
   "name": "python",
   "nbconvert_exporter": "python",
   "pygments_lexer": "ipython3",
   "version": "3.8.5"
  },
  "toc": {
   "base_numbering": 1,
   "nav_menu": {},
   "number_sections": true,
   "sideBar": true,
   "skip_h1_title": false,
   "title_cell": "Table of Contents",
   "title_sidebar": "Contents",
   "toc_cell": false,
   "toc_position": {},
   "toc_section_display": true,
   "toc_window_display": false
  },
  "varInspector": {
   "cols": {
    "lenName": 16,
    "lenType": 16,
    "lenVar": 40
   },
   "kernels_config": {
    "python": {
     "delete_cmd_postfix": "",
     "delete_cmd_prefix": "del ",
     "library": "var_list.py",
     "varRefreshCmd": "print(var_dic_list())"
    },
    "r": {
     "delete_cmd_postfix": ") ",
     "delete_cmd_prefix": "rm(",
     "library": "var_list.r",
     "varRefreshCmd": "cat(var_dic_list()) "
    }
   },
   "types_to_exclude": [
    "module",
    "function",
    "builtin_function_or_method",
    "instance",
    "_Feature"
   ],
   "window_display": false
  }
 },
 "nbformat": 4,
 "nbformat_minor": 4
}
